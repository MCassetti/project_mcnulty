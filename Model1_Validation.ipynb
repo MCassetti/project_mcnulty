{
 "cells": [
  {
   "cell_type": "code",
   "execution_count": 52,
   "metadata": {},
   "outputs": [],
   "source": [
    "from sklearn.preprocessing import StandardScaler\n",
    "import matplotlib.pyplot as plt\n",
    "import numpy as np\n",
    "import pandas as pd\n",
    "import pickle\n",
    "from sklearn.neighbors import KNeighborsClassifier\n",
    "from sklearn import metrics\n",
    "from sklearn.model_selection import train_test_split\n",
    "from sklearn.model_selection import GridSearchCV\n",
    "import warnings\n",
    "warnings.filterwarnings(\"ignore\", category=DeprecationWarning)\n",
    "from sklearn.metrics import confusion_matrix\n",
    "from sklearn.metrics import accuracy_score, confusion_matrix\n",
    "## Load the data set\n",
    "df = pd.read_pickle('sampled_data_bands.pkl')\n",
    "\n",
    "\n",
    "\n",
    "\n",
    "\n",
    "df.band.replace('Metallica',0,inplace=True)\n",
    "df.band.replace('Rush',1,inplace=True)\n",
    "df.reindex()\n",
    "\n",
    "X = df.drop(['band','track_name','index'],axis=1)\n",
    "y = df['band']\n",
    "\n",
    "X['bpm'] = pd.to_numeric(X['bpm'], errors='coerce').fillna(0)\n",
    "X['harmonic_rythmic_ratio'] = pd.to_numeric(X['harmonic_rythmic_ratio'], errors='coerce').fillna(0)\n",
    "X['spectral_centroid'] = pd.to_numeric(X['spectral_centroid'], errors='coerce').fillna(0)\n",
    "X['spectral_flatness'] = pd.to_numeric(X['spectral_flatness'], errors='coerce').fillna(0)\n",
    "X['count_delta_above_mean'] = pd.to_numeric(X['count_delta_above_mean'], errors='coerce').fillna(0)\n",
    "X['ratio_above_rmse_mean'] = pd.to_numeric(X['harmonic_rythmic_ratio'], errors='coerce').fillna(0)\n",
    "X['max_rmse'] = pd.to_numeric(X['spectral_centroid'], errors='coerce').fillna(0)\n",
    "X['mean_rms'] = pd.to_numeric(X['spectral_flatness'], errors='coerce').fillna(0)\n",
    "\n",
    "\n",
    "\n",
    "#np.isnan(y.any()) #and gets False\n",
    "#and gets True\n",
    "#X = X.as_matrix().astype(np.float)\n",
    "#y = y.as_matrix().astype(np.float)"
   ]
  },
  {
   "cell_type": "code",
   "execution_count": 53,
   "metadata": {},
   "outputs": [
    {
     "data": {
      "text/html": [
       "<div>\n",
       "<style scoped>\n",
       "    .dataframe tbody tr th:only-of-type {\n",
       "        vertical-align: middle;\n",
       "    }\n",
       "\n",
       "    .dataframe tbody tr th {\n",
       "        vertical-align: top;\n",
       "    }\n",
       "\n",
       "    .dataframe thead th {\n",
       "        text-align: right;\n",
       "    }\n",
       "</style>\n",
       "<table border=\"1\" class=\"dataframe\">\n",
       "  <thead>\n",
       "    <tr style=\"text-align: right;\">\n",
       "      <th></th>\n",
       "      <th>bpm</th>\n",
       "      <th>harmonic_rythmic_ratio</th>\n",
       "      <th>spectral_centroid</th>\n",
       "      <th>spectral_flatness</th>\n",
       "      <th>count_delta_above_mean</th>\n",
       "      <th>ratio_above_rmse_mean</th>\n",
       "      <th>max_rmse</th>\n",
       "      <th>mean_rms</th>\n",
       "      <th>mean_zcr</th>\n",
       "    </tr>\n",
       "  </thead>\n",
       "  <tbody>\n",
       "    <tr>\n",
       "      <th>0</th>\n",
       "      <td>89.102909</td>\n",
       "      <td>3.558330</td>\n",
       "      <td>1686.458521</td>\n",
       "      <td>0.005821</td>\n",
       "      <td>0</td>\n",
       "      <td>3.558330</td>\n",
       "      <td>1686.458521</td>\n",
       "      <td>0.005821</td>\n",
       "      <td>0.07279778079710145</td>\n",
       "    </tr>\n",
       "    <tr>\n",
       "      <th>1</th>\n",
       "      <td>129.199219</td>\n",
       "      <td>4.855687</td>\n",
       "      <td>2000.284409</td>\n",
       "      <td>0.013070</td>\n",
       "      <td>12</td>\n",
       "      <td>4.855687</td>\n",
       "      <td>2000.284409</td>\n",
       "      <td>0.013070</td>\n",
       "      <td>0.06671832540760869</td>\n",
       "    </tr>\n",
       "    <tr>\n",
       "      <th>2</th>\n",
       "      <td>103.359375</td>\n",
       "      <td>1.316488</td>\n",
       "      <td>2098.202276</td>\n",
       "      <td>0.019428</td>\n",
       "      <td>0</td>\n",
       "      <td>1.316488</td>\n",
       "      <td>2098.202276</td>\n",
       "      <td>0.019428</td>\n",
       "      <td>0.10958767920425258</td>\n",
       "    </tr>\n",
       "    <tr>\n",
       "      <th>3</th>\n",
       "      <td>92.285156</td>\n",
       "      <td>1.532198</td>\n",
       "      <td>2545.976752</td>\n",
       "      <td>0.038558</td>\n",
       "      <td>0</td>\n",
       "      <td>1.532198</td>\n",
       "      <td>2545.976752</td>\n",
       "      <td>0.038558</td>\n",
       "      <td>0.14184691775497513</td>\n",
       "    </tr>\n",
       "    <tr>\n",
       "      <th>4</th>\n",
       "      <td>161.499023</td>\n",
       "      <td>3.124995</td>\n",
       "      <td>1838.585034</td>\n",
       "      <td>0.013157</td>\n",
       "      <td>0</td>\n",
       "      <td>3.124995</td>\n",
       "      <td>1838.585034</td>\n",
       "      <td>0.013157</td>\n",
       "      <td>0.06252768605025773</td>\n",
       "    </tr>\n",
       "  </tbody>\n",
       "</table>\n",
       "</div>"
      ],
      "text/plain": [
       "          bpm  harmonic_rythmic_ratio  spectral_centroid  spectral_flatness  \\\n",
       "0   89.102909                3.558330        1686.458521           0.005821   \n",
       "1  129.199219                4.855687        2000.284409           0.013070   \n",
       "2  103.359375                1.316488        2098.202276           0.019428   \n",
       "3   92.285156                1.532198        2545.976752           0.038558   \n",
       "4  161.499023                3.124995        1838.585034           0.013157   \n",
       "\n",
       "   count_delta_above_mean  ratio_above_rmse_mean     max_rmse  mean_rms  \\\n",
       "0                       0               3.558330  1686.458521  0.005821   \n",
       "1                      12               4.855687  2000.284409  0.013070   \n",
       "2                       0               1.316488  2098.202276  0.019428   \n",
       "3                       0               1.532198  2545.976752  0.038558   \n",
       "4                       0               3.124995  1838.585034  0.013157   \n",
       "\n",
       "              mean_zcr  \n",
       "0  0.07279778079710145  \n",
       "1  0.06671832540760869  \n",
       "2  0.10958767920425258  \n",
       "3  0.14184691775497513  \n",
       "4  0.06252768605025773  "
      ]
     },
     "execution_count": 53,
     "metadata": {},
     "output_type": "execute_result"
    }
   ],
   "source": [
    "X.head()"
   ]
  },
  {
   "cell_type": "code",
   "execution_count": 54,
   "metadata": {},
   "outputs": [],
   "source": [
    "### try knn, then write a function to explore the rest\n",
    "X_train, X_test, y_train, y_test = train_test_split(X, y, test_size=0.3, random_state=42)\n",
    "\n",
    "ssX = StandardScaler()\n",
    "X_train_scaled = ssX.fit_transform(X_train)\n",
    "X_test_scaled  = ssX.transform(X_test)"
   ]
  },
  {
   "cell_type": "code",
   "execution_count": 4,
   "metadata": {},
   "outputs": [],
   "source": [
    "#### KNN Model"
   ]
  },
  {
   "cell_type": "code",
   "execution_count": 5,
   "metadata": {},
   "outputs": [],
   "source": [
    "knn = KNeighborsClassifier(n_neighbors=5)\n",
    "knn.fit(X_train_scaled, y_train)\n",
    "y_pred = knn.predict(X_train_scaled)"
   ]
  },
  {
   "cell_type": "code",
   "execution_count": 6,
   "metadata": {},
   "outputs": [
    {
     "name": "stdout",
     "output_type": "stream",
     "text": [
      "0.8225444957152275\n",
      "{'n_neighbors': 6, 'weights': 'distance'}\n",
      "KNeighborsClassifier(algorithm='auto', leaf_size=30, metric='minkowski',\n",
      "           metric_params=None, n_jobs=1, n_neighbors=6, p=2,\n",
      "           weights='distance')\n"
     ]
    }
   ],
   "source": [
    "####\n",
    "k_range = list(range(1, 10))\n",
    "weight_options = ['uniform', 'distance']\n",
    "param_grid = dict(n_neighbors=k_range, weights=weight_options)\n",
    "# instantiate and fit the grid\n",
    "grid = GridSearchCV(knn, param_grid, cv=10, scoring='accuracy')\n",
    "grid.fit(X_train_scaled, y_train)\n",
    "# examine the best model\n",
    "print(grid.best_score_)\n",
    "print(grid.best_params_)\n",
    "print(grid.best_estimator_)"
   ]
  },
  {
   "cell_type": "code",
   "execution_count": 7,
   "metadata": {},
   "outputs": [
    {
     "data": {
      "text/plain": [
       "0.8338972623808059"
      ]
     },
     "execution_count": 7,
     "metadata": {},
     "output_type": "execute_result"
    }
   ],
   "source": [
    "prediction_hard = grid.predict(X_test_scaled)\n",
    "actual = y_test\n",
    "accuracy_score(y_test,prediction_hard)"
   ]
  },
  {
   "cell_type": "code",
   "execution_count": 8,
   "metadata": {},
   "outputs": [
    {
     "name": "stdout",
     "output_type": "stream",
     "text": [
      "0.16610273761919409\n"
     ]
    },
    {
     "data": {
      "text/plain": [
       "array([[1608,  290],\n",
       "       [ 250, 1103]])"
      ]
     },
     "execution_count": 8,
     "metadata": {},
     "output_type": "execute_result"
    }
   ],
   "source": [
    "# confusion matrix\n",
    "\n",
    "miscount = 0\n",
    "\n",
    "for index, prediction in enumerate(prediction_hard):\n",
    "    #print(prediction, actual.iloc[index])\n",
    "    if prediction != actual.iloc[index]:\n",
    "        #print(df.iloc[index])\n",
    "        miscount += 1\n",
    "        \n",
    "print(miscount/len(prediction_hard))\n",
    "## I actually really like the songs it misclassified,\n",
    "## and I still haven't considered prec/recall balancing\n",
    "confusion_matrix(y_test,prediction_hard)"
   ]
  },
  {
   "cell_type": "code",
   "execution_count": 9,
   "metadata": {},
   "outputs": [
    {
     "data": {
      "text/plain": [
       "0.8338972623808059"
      ]
     },
     "execution_count": 9,
     "metadata": {},
     "output_type": "execute_result"
    }
   ],
   "source": [
    "grid.score(X_test_scaled, y_test)"
   ]
  },
  {
   "cell_type": "code",
   "execution_count": 39,
   "metadata": {},
   "outputs": [],
   "source": [
    "from sklearn.decomposition import PCA\n",
    "pca = PCA(n_components=2)\n",
    "pca.fit(X_train_scaled)\n",
    "pcafeatures_train = pca.transform(X_train_scaled)"
   ]
  },
  {
   "cell_type": "code",
   "execution_count": 11,
   "metadata": {},
   "outputs": [
    {
     "data": {
      "text/html": [
       "<div>\n",
       "<style scoped>\n",
       "    .dataframe tbody tr th:only-of-type {\n",
       "        vertical-align: middle;\n",
       "    }\n",
       "\n",
       "    .dataframe tbody tr th {\n",
       "        vertical-align: top;\n",
       "    }\n",
       "\n",
       "    .dataframe thead th {\n",
       "        text-align: right;\n",
       "    }\n",
       "</style>\n",
       "<table border=\"1\" class=\"dataframe\">\n",
       "  <thead>\n",
       "    <tr style=\"text-align: right;\">\n",
       "      <th></th>\n",
       "      <th>bpm</th>\n",
       "      <th>harmonic_rythmic_ratio</th>\n",
       "      <th>spectral_centroid</th>\n",
       "      <th>spectral_flatness</th>\n",
       "      <th>count_delta_above_mean</th>\n",
       "      <th>ratio_above_rmse_mean</th>\n",
       "      <th>max_rmse</th>\n",
       "      <th>mean_rms</th>\n",
       "      <th>mean_zcr</th>\n",
       "    </tr>\n",
       "  </thead>\n",
       "  <tbody>\n",
       "    <tr>\n",
       "      <th>0</th>\n",
       "      <td>89.102909</td>\n",
       "      <td>3.558330</td>\n",
       "      <td>1686.458521</td>\n",
       "      <td>0.005821</td>\n",
       "      <td>0</td>\n",
       "      <td>3.558330</td>\n",
       "      <td>1686.458521</td>\n",
       "      <td>0.005821</td>\n",
       "      <td>0.07279778079710145</td>\n",
       "    </tr>\n",
       "    <tr>\n",
       "      <th>1</th>\n",
       "      <td>129.199219</td>\n",
       "      <td>4.855687</td>\n",
       "      <td>2000.284409</td>\n",
       "      <td>0.013070</td>\n",
       "      <td>12</td>\n",
       "      <td>4.855687</td>\n",
       "      <td>2000.284409</td>\n",
       "      <td>0.013070</td>\n",
       "      <td>0.06671832540760869</td>\n",
       "    </tr>\n",
       "    <tr>\n",
       "      <th>2</th>\n",
       "      <td>103.359375</td>\n",
       "      <td>1.316488</td>\n",
       "      <td>2098.202276</td>\n",
       "      <td>0.019428</td>\n",
       "      <td>0</td>\n",
       "      <td>1.316488</td>\n",
       "      <td>2098.202276</td>\n",
       "      <td>0.019428</td>\n",
       "      <td>0.10958767920425258</td>\n",
       "    </tr>\n",
       "    <tr>\n",
       "      <th>3</th>\n",
       "      <td>92.285156</td>\n",
       "      <td>1.532198</td>\n",
       "      <td>2545.976752</td>\n",
       "      <td>0.038558</td>\n",
       "      <td>0</td>\n",
       "      <td>1.532198</td>\n",
       "      <td>2545.976752</td>\n",
       "      <td>0.038558</td>\n",
       "      <td>0.14184691775497513</td>\n",
       "    </tr>\n",
       "    <tr>\n",
       "      <th>4</th>\n",
       "      <td>161.499023</td>\n",
       "      <td>3.124995</td>\n",
       "      <td>1838.585034</td>\n",
       "      <td>0.013157</td>\n",
       "      <td>0</td>\n",
       "      <td>3.124995</td>\n",
       "      <td>1838.585034</td>\n",
       "      <td>0.013157</td>\n",
       "      <td>0.06252768605025773</td>\n",
       "    </tr>\n",
       "  </tbody>\n",
       "</table>\n",
       "</div>"
      ],
      "text/plain": [
       "          bpm  harmonic_rythmic_ratio  spectral_centroid  spectral_flatness  \\\n",
       "0   89.102909                3.558330        1686.458521           0.005821   \n",
       "1  129.199219                4.855687        2000.284409           0.013070   \n",
       "2  103.359375                1.316488        2098.202276           0.019428   \n",
       "3   92.285156                1.532198        2545.976752           0.038558   \n",
       "4  161.499023                3.124995        1838.585034           0.013157   \n",
       "\n",
       "   count_delta_above_mean  ratio_above_rmse_mean     max_rmse  mean_rms  \\\n",
       "0                       0               3.558330  1686.458521  0.005821   \n",
       "1                      12               4.855687  2000.284409  0.013070   \n",
       "2                       0               1.316488  2098.202276  0.019428   \n",
       "3                       0               1.532198  2545.976752  0.038558   \n",
       "4                       0               3.124995  1838.585034  0.013157   \n",
       "\n",
       "              mean_zcr  \n",
       "0  0.07279778079710145  \n",
       "1  0.06671832540760869  \n",
       "2  0.10958767920425258  \n",
       "3  0.14184691775497513  \n",
       "4  0.06252768605025773  "
      ]
     },
     "execution_count": 11,
     "metadata": {},
     "output_type": "execute_result"
    }
   ],
   "source": [
    "X.head()"
   ]
  },
  {
   "cell_type": "code",
   "execution_count": 12,
   "metadata": {},
   "outputs": [
    {
     "data": {
      "image/png": "[encoded data removed]",
      "text/plain": [
       "<Figure size 864x576 with 1 Axes>"
      ]
     },
     "metadata": {},
     "output_type": "display_data"
    }
   ],
   "source": [
    "from itertools import cycle\n",
    "\n",
    "def plot_PCA_2D(data, target, target_names):\n",
    "    colors = cycle(['r','b','g','c','m','y','orange','k','aqua','yellow'])\n",
    "    target_ids = range(len(target_names))\n",
    "    plt.figure()\n",
    "    for i, c, label in zip(target_ids, colors, target_names):\n",
    "        plt.scatter(data[target == i, 0], data[target == i, 1],\n",
    "                   c=c, label=label)\n",
    "    plt.legend()\n",
    "\n",
    "    \n",
    "plot_PCA_2D(pcafeatures_train, target=y_train.astype(int), target_names=['Metallica', 'Rush'])\n",
    "plt.gcf().set_size_inches(12,8)\n",
    "    "
   ]
  },
  {
   "cell_type": "code",
   "execution_count": 13,
   "metadata": {},
   "outputs": [],
   "source": [
    "from sklearn.manifold import TSNE\n",
    "\n",
    "Xsne = TSNE(n_components=2,perplexity=100.0).fit_transform(X_train_scaled[:1000,:])\n"
   ]
  },
  {
   "cell_type": "code",
   "execution_count": 14,
   "metadata": {},
   "outputs": [
    {
     "data": {
      "text/plain": [
       "<matplotlib.collections.PathCollection at 0x1a0b442400>"
      ]
     },
     "execution_count": 14,
     "metadata": {},
     "output_type": "execute_result"
    },
    {
     "data": {
      "image/png": "[encoded data removed]",
      "text/plain": [
       "<Figure size 432x288 with 1 Axes>"
      ]
     },
     "metadata": {},
     "output_type": "display_data"
    }
   ],
   "source": [
    "plt.scatter(Xsne[:,0],Xsne[:,1],c=['r' if band==1 else 'b' for band in y_train])"
   ]
  },
  {
   "cell_type": "code",
   "execution_count": 15,
   "metadata": {
    "scrolled": true
   },
   "outputs": [],
   "source": [
    "#import seaborn as sns; sns.set(font_scale=1.2)\n",
    "#sns.pairplot(df, hue='band')"
   ]
  },
  {
   "cell_type": "code",
   "execution_count": 16,
   "metadata": {},
   "outputs": [],
   "source": [
    "### Try Logisitic Regression"
   ]
  },
  {
   "cell_type": "code",
   "execution_count": 55,
   "metadata": {},
   "outputs": [
    {
     "data": {
      "text/plain": [
       "LogisticRegression(C=1000, class_weight=None, dual=False, fit_intercept=True,\n",
       "          intercept_scaling=1, max_iter=100, multi_class='ovr', n_jobs=1,\n",
       "          penalty='l2', random_state=None, solver='liblinear', tol=0.0001,\n",
       "          verbose=0, warm_start=False)"
      ]
     },
     "execution_count": 55,
     "metadata": {},
     "output_type": "execute_result"
    }
   ],
   "source": [
    "from sklearn.linear_model import LogisticRegression\n",
    "from sklearn.metrics import precision_score, recall_score, accuracy_score, roc_auc_score\n",
    "from sklearn.metrics import confusion_matrix\n",
    "\n",
    "lm1 = LogisticRegression(C=1000)\n",
    "lm1.fit(X_train_scaled, y_train)"
   ]
  },
  {
   "cell_type": "code",
   "execution_count": 41,
   "metadata": {},
   "outputs": [
    {
     "data": {
      "text/plain": [
       "0.6970336189848385"
      ]
     },
     "execution_count": 41,
     "metadata": {},
     "output_type": "execute_result"
    }
   ],
   "source": [
    "lm1.score(X_train_scaled, y_train) "
   ]
  },
  {
   "cell_type": "code",
   "execution_count": 19,
   "metadata": {},
   "outputs": [
    {
     "data": {
      "text/plain": [
       "0.7065518302060905"
      ]
     },
     "execution_count": 19,
     "metadata": {},
     "output_type": "execute_result"
    }
   ],
   "source": [
    "prediction_hard = lm1.predict(X_test_scaled)\n",
    "actual = y_test\n",
    "# check accuracy\n",
    "accuracy_score(y_test,prediction_hard)"
   ]
  },
  {
   "cell_type": "code",
   "execution_count": 20,
   "metadata": {},
   "outputs": [
    {
     "data": {
      "text/plain": [
       "0.2934481697939096"
      ]
     },
     "execution_count": 20,
     "metadata": {},
     "output_type": "execute_result"
    }
   ],
   "source": [
    "miscount = 0\n",
    "for index, prediction in enumerate(prediction_hard):\n",
    "    #print(prediction, actual.iloc[index])\n",
    "    if prediction != actual.iloc[index]:\n",
    "        #print(df.iloc[index])\n",
    "        miscount += 1\n",
    "        \n",
    "miscount/len(prediction_hard)\n",
    "### Actually those two songs I really like, I really like them.\n",
    "### So my features don't really captures the ones I really, really like \n",
    "### yet...... but logistic regression does pretty weel"
   ]
  },
  {
   "cell_type": "code",
   "execution_count": 56,
   "metadata": {},
   "outputs": [],
   "source": [
    "from sklearn.neighbors import KNeighborsClassifier as KNN\n",
    "from sklearn.linear_model import LogisticRegression\n",
    "from sklearn.svm import SVC\n",
    "from sklearn.tree import DecisionTreeClassifier\n",
    "from sklearn.ensemble import RandomForestClassifier"
   ]
  },
  {
   "cell_type": "code",
   "execution_count": null,
   "metadata": {},
   "outputs": [
    {
     "name": "stdout",
     "output_type": "stream",
     "text": [
      "knn: best score: 0.8104152933421226\n",
      "logistic: best score: 0.6957152274225445\n",
      "tree: best score: 0.7596572181938036\n"
     ]
    }
   ],
   "source": [
    "#svc = SVC(probability=True)\n",
    "models = [('knn', KNN), \n",
    "          ('logistic', LogisticRegression),\n",
    "          ('tree', DecisionTreeClassifier),\n",
    "          ('forest', RandomForestClassifier),\n",
    "          ('svm', SVC)\n",
    "         ]\n",
    "\n",
    "param_choices = [\n",
    "    {\n",
    "        'n_neighbors': range(1, 12),\n",
    "        'weights': ['uniform', 'distance']\n",
    "    },\n",
    "    {\n",
    "        'C': np.logspace(-3,6, 12),\n",
    "        'penalty': ['l1', 'l2']\n",
    "    },\n",
    "    {\n",
    "        'max_depth': [1,2,3,4,5],\n",
    "        'min_samples_leaf': [3,6,10]\n",
    "    },\n",
    "    {\n",
    "       'n_estimators': [50, 100, 200],\n",
    "       'max_depth': [1,2,3,4,5],\n",
    "       'min_samples_leaf': [3,6,10]\n",
    "    },\n",
    "    {\n",
    "        'C': [1, 5, 10, 50,100], \n",
    "        'kernel': ['linear','poly','rbf'] ,\n",
    "        'probability': [True]\n",
    "    },\n",
    " \n",
    "]\n",
    "    \n",
    "    \n",
    "\n",
    "\n",
    "grids = {}\n",
    "for model_info, params in zip(models, param_choices):\n",
    "    name, model = model_info\n",
    "    grid = GridSearchCV(model(), params)\n",
    "    grid.fit(X_train_scaled, y_train)\n",
    "    s = f\"{name}: best score: {grid.best_score_}\"\n",
    "    print(s)\n",
    "    grids[name] = grid"
   ]
  },
  {
   "cell_type": "code",
   "execution_count": 28,
   "metadata": {},
   "outputs": [
    {
     "data": {
      "text/plain": [
       "0.824669332513073"
      ]
     },
     "execution_count": 28,
     "metadata": {},
     "output_type": "execute_result"
    }
   ],
   "source": [
    "# Let's get the testing score\n",
    "grids['svm'].best_estimator_.score(X_test_scaled, y_test)"
   ]
  },
  {
   "cell_type": "code",
   "execution_count": 29,
   "metadata": {},
   "outputs": [
    {
     "data": {
      "text/plain": [
       "SVC(C=100, cache_size=200, class_weight=None, coef0=0.0,\n",
       "  decision_function_shape='ovr', degree=3, gamma='auto', kernel='rbf',\n",
       "  max_iter=-1, probability=True, random_state=None, shrinking=True,\n",
       "  tol=0.001, verbose=False)"
      ]
     },
     "execution_count": 29,
     "metadata": {},
     "output_type": "execute_result"
    }
   ],
   "source": [
    "grids['svm'].best_estimator_"
   ]
  },
  {
   "cell_type": "code",
   "execution_count": 30,
   "metadata": {},
   "outputs": [],
   "source": [
    "#import seaborn as sns; sns.set(font_scale=1.2)\n",
    "#sns.pairplot(df.drop('index',axis=1), hue='band')"
   ]
  },
  {
   "cell_type": "code",
   "execution_count": 31,
   "metadata": {},
   "outputs": [
    {
     "data": {
      "text/plain": [
       "0.824669332513073"
      ]
     },
     "execution_count": 31,
     "metadata": {},
     "output_type": "execute_result"
    }
   ],
   "source": [
    "prediction_hard = grids['svm'].best_estimator_.predict(X_test_scaled)\n",
    "actual = y_test\n",
    "accuracy_score(y_test,prediction_hard)"
   ]
  },
  {
   "cell_type": "code",
   "execution_count": null,
   "metadata": {},
   "outputs": [],
   "source": [
    "from sklearn.model_selection import learning_curve\n",
    "train_sizes, train_scores, test_scores = learning_curve(grids['svm'], X_train_scaled, y_train, cv = 10)\n",
    "ave_train_scores = train_scores.mean(axis=1)\n",
    "ave_test_scores = test_scores.mean(axis=1)\n",
    "\n",
    "learn_df = pd.DataFrame({\n",
    "    'train_size': train_sizes,\n",
    "    'train_score': ave_train_scores,\n",
    "    'test_score': ave_test_scores\n",
    "})\n",
    "\n",
    "plt.plot(learn_df['train_size'], learn_df['train_score'], 'r--o', label='train scores')\n",
    "plt.plot(learn_df['train_size'], learn_df['test_score'], 'b--x', label='test size')\n",
    "plt.legend(loc='lower right')\n",
    "plt.ylim(-1,1)"
   ]
  },
  {
   "cell_type": "code",
   "execution_count": 48,
   "metadata": {},
   "outputs": [
    {
     "name": "stdout",
     "output_type": "stream",
     "text": [
      "svm <class 'sklearn.svm.classes.SVC'>\n",
      "svm: best score: 0.8176664469347397\n",
      "CPU times: user 11min 2s, sys: 3.08 s, total: 11min 5s\n",
      "Wall time: 11min 6s\n"
     ]
    }
   ],
   "source": [
    "%%time\n",
    "## Tune the hyper parameters of svm if possible and refit!\n",
    "\n",
    "models = [('svm',SVC)]\n",
    "\n",
    "gamma_range = np.logspace(-2, 0, 5)\n",
    "C_range = np.logspace(1.75,2.5,5)\n",
    "\n",
    "param_choices = [\n",
    "\n",
    "   {\n",
    "       'C': C_range, \n",
    "       'kernel': ['rbf'],\n",
    "       'gamma': gamma_range,\n",
    "       'probability': [True]\n",
    "   },\n",
    " \n",
    "]\n",
    "grids = {}\n",
    "for model_info, params in zip(models, param_choices):\n",
    "   name, model = model_info\n",
    "   print(name,model)\n",
    "   grid = GridSearchCV(model(), params)\n",
    "   grid.fit(X_train_scaled, y_train)\n",
    "   s = f\"{name}: best score: {grid.best_score_}\"\n",
    "   print(s)\n",
    "   grids[name] = grid"
   ]
  },
  {
   "cell_type": "code",
   "execution_count": 49,
   "metadata": {},
   "outputs": [
    {
     "data": {
      "text/plain": [
       "0.8305136880959705"
      ]
     },
     "execution_count": 49,
     "metadata": {},
     "output_type": "execute_result"
    }
   ],
   "source": [
    "prediction_hard = grids['svm'].best_estimator_.predict(X_test_scaled)\n",
    "actual = y_test\n",
    "accuracy_score(y_test,prediction_hard) #BETTER!"
   ]
  },
  {
   "cell_type": "code",
   "execution_count": null,
   "metadata": {},
   "outputs": [],
   "source": [
    "from sklearn.model_selection import learning_curve\n",
    "train_sizes, train_scores, test_scores = learning_curve(grids['svm'], X_train_scaled, y_train, cv = 10)\n",
    "ave_train_scores = train_scores.mean(axis=1)\n",
    "ave_test_scores = test_scores.mean(axis=1)\n",
    "\n",
    "learn_df = pd.DataFrame({\n",
    "    'train_size': train_sizes,\n",
    "    'train_score': ave_train_scores,\n",
    "    'test_score': ave_test_scores\n",
    "})\n",
    "\n",
    "plt.plot(learn_df['train_size'], learn_df['train_score'], 'r--o', label='train scores')\n",
    "plt.plot(learn_df['train_size'], learn_df['test_score'], 'b--x', label='test size')\n",
    "plt.legend(loc='lower right')\n",
    "plt.ylim(-1,1)"
   ]
  },
  {
   "cell_type": "code",
   "execution_count": 33,
   "metadata": {},
   "outputs": [],
   "source": [
    "## find which features separate the most...?? of the ones that mis-classify, \n",
    "## what is having the most trouble\n",
    "### do other approach... then get two proba\n",
    "#### logisitic regression with the proba"
   ]
  },
  {
   "cell_type": "code",
   "execution_count": 50,
   "metadata": {},
   "outputs": [],
   "source": [
    "## EXPORT MODEL 1\n",
    "from sklearn.pipeline import Pipeline\n",
    "import pickle\n",
    "\n",
    "pipeline = Pipeline([('scaler', StandardScaler()),\n",
    "                     ('svm', SVC(**grids['svm'].best_params_))])\n",
    "pipeline.fit(X_train,y_train)\n",
    "pickle.dump(pipeline, open('model.pkl', 'wb'))\n",
    "\n",
    "test_data = [X_test,y_test]\n",
    "pickle.dump(test_data,open('test_data.pkl','wb'))"
   ]
  },
  {
   "cell_type": "code",
   "execution_count": 51,
   "metadata": {},
   "outputs": [],
   "source": [
    "train_data = [X_train,y_train]\n",
    "pickle.dump(train_data,open('training_data.pkl','wb'))"
   ]
  },
  {
   "cell_type": "code",
   "execution_count": null,
   "metadata": {},
   "outputs": [],
   "source": []
  }
 ],
 "metadata": {
  "kernelspec": {
   "display_name": "Python 3",
   "language": "python",
   "name": "python3"
  },
  "language_info": {
   "codemirror_mode": {
    "name": "ipython",
    "version": 3
   },
   "file_extension": ".py",
   "mimetype": "text/x-python",
   "name": "python",
   "nbconvert_exporter": "python",
   "pygments_lexer": "ipython3",
   "version": "3.6.5"
  }
 },
 "nbformat": 4,
 "nbformat_minor": 2
}
