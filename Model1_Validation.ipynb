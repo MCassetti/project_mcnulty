{
 "cells": [
  {
   "cell_type": "code",
   "execution_count": 256,
   "metadata": {},
   "outputs": [],
   "source": [
    "from sklearn.preprocessing import StandardScaler\n",
    "import matplotlib.pyplot as plt\n",
    "import numpy as np\n",
    "import pandas as pd\n",
    "import pickle\n",
    "from sklearn.neighbors import KNeighborsClassifier\n",
    "from sklearn import metrics\n",
    "from sklearn.model_selection import train_test_split\n",
    "from sklearn.model_selection import GridSearchCV\n",
    "import warnings\n",
    "warnings.filterwarnings(\"ignore\", category=DeprecationWarning)\n",
    "from sklearn.metrics import confusion_matrix\n",
    "from sklearn.metrics import accuracy_score, confusion_matrix\n",
    "from sklearn.neighbors import KNeighborsClassifier as KNN\n",
    "from sklearn.linear_model import LogisticRegression, SGDClassifier\n",
    "from sklearn.svm import SVC\n",
    "from sklearn.tree import DecisionTreeClassifier\n",
    "from sklearn.ensemble import RandomForestClassifier, BaggingClassifier, GradientBoostingClassifier\n",
    "from sklearn.naive_bayes import GaussianNB\n",
    "from sklearn.linear_model import LogisticRegression\n",
    "from sklearn.metrics import precision_score, recall_score, accuracy_score, roc_auc_score, roc_curve, auc,classification_report\n",
    "from sklearn.metrics import confusion_matrix\n",
    "\n",
    "## Load the data set\n",
    "df = pd.read_pickle('sampled_data_bands.pkl')\n",
    "\n",
    "\n",
    "\n",
    "\n",
    "\n",
    "df.band.replace('Metallica',0,inplace=True)\n",
    "df.band.replace('Rush',1,inplace=True)\n",
    "df.reindex()\n",
    "\n",
    "X = df.drop(['band','track_name','index'],axis=1)\n",
    "y = df['band']\n",
    "\n",
    "X['bpm'] = pd.to_numeric(X['bpm'], errors='coerce').fillna(0)\n",
    "X['harmonic_rythmic_ratio'] = pd.to_numeric(X['harmonic_rythmic_ratio'], errors='coerce').fillna(0)\n",
    "X['spectral_centroid'] = pd.to_numeric(X['spectral_centroid'], errors='coerce').fillna(0)\n",
    "X['spectral_flatness'] = pd.to_numeric(X['spectral_flatness'], errors='coerce').fillna(0)\n",
    "X['count_delta_above_mean'] = pd.to_numeric(X['count_delta_above_mean'], errors='coerce').fillna(0)\n",
    "X['ratio_above_rmse_mean'] = pd.to_numeric(X['ratio_above_rmse_mean'], errors='coerce').fillna(0)\n",
    "X['max_rmse'] = pd.to_numeric(X['max_rmse'], errors='coerce').fillna(0)\n",
    "X['mean_rms'] = pd.to_numeric(X['mean_rms'], errors='coerce').fillna(0)\n",
    "X['mean_zcr'] = pd.to_numeric(X['mean_zcr'], errors='coerce').fillna(0)\n",
    "\n",
    "\n",
    "#np.isnan(y.any()) #and gets False\n",
    "#and gets True\n",
    "#X = X.as_matrix().astype(np.float)\n",
    "#y = y.as_matrix().astype(np.float)"
   ]
  },
  {
   "cell_type": "code",
   "execution_count": 2,
   "metadata": {},
   "outputs": [
    {
     "data": {
      "text/html": [
       "<div>\n",
       "<style scoped>\n",
       "    .dataframe tbody tr th:only-of-type {\n",
       "        vertical-align: middle;\n",
       "    }\n",
       "\n",
       "    .dataframe tbody tr th {\n",
       "        vertical-align: top;\n",
       "    }\n",
       "\n",
       "    .dataframe thead th {\n",
       "        text-align: right;\n",
       "    }\n",
       "</style>\n",
       "<table border=\"1\" class=\"dataframe\">\n",
       "  <thead>\n",
       "    <tr style=\"text-align: right;\">\n",
       "      <th></th>\n",
       "      <th>index</th>\n",
       "      <th>track_name</th>\n",
       "      <th>bpm</th>\n",
       "      <th>harmonic_rythmic_ratio</th>\n",
       "      <th>spectral_centroid</th>\n",
       "      <th>spectral_flatness</th>\n",
       "      <th>count_delta_above_mean</th>\n",
       "      <th>ratio_above_rmse_mean</th>\n",
       "      <th>max_rmse</th>\n",
       "      <th>mean_rms</th>\n",
       "      <th>mean_zcr</th>\n",
       "      <th>band</th>\n",
       "    </tr>\n",
       "  </thead>\n",
       "  <tbody>\n",
       "    <tr>\n",
       "      <th>0</th>\n",
       "      <td>148</td>\n",
       "      <td>4 - Limelight.mp3</td>\n",
       "      <td>89.10290948275862</td>\n",
       "      <td>3.5583296</td>\n",
       "      <td>1686.4585213145274</td>\n",
       "      <td>0.00582094</td>\n",
       "      <td>0</td>\n",
       "      <td>0.6911764705882353</td>\n",
       "      <td>0.097900845</td>\n",
       "      <td>0.056995194</td>\n",
       "      <td>0.07279778079710145</td>\n",
       "      <td>1</td>\n",
       "    </tr>\n",
       "    <tr>\n",
       "      <th>1</th>\n",
       "      <td>3722</td>\n",
       "      <td>07 - Orion (Instrumental).mp3</td>\n",
       "      <td>129.19921875</td>\n",
       "      <td>4.8556867</td>\n",
       "      <td>2000.2844087632832</td>\n",
       "      <td>0.013070458</td>\n",
       "      <td>12</td>\n",
       "      <td>0.5436241610738255</td>\n",
       "      <td>0.20186672</td>\n",
       "      <td>0.079553574</td>\n",
       "      <td>0.06671832540760869</td>\n",
       "      <td>0</td>\n",
       "    </tr>\n",
       "    <tr>\n",
       "      <th>2</th>\n",
       "      <td>2120</td>\n",
       "      <td>1 - Bastille Day.mp3</td>\n",
       "      <td>103.359375</td>\n",
       "      <td>1.3164884</td>\n",
       "      <td>2098.2022756528363</td>\n",
       "      <td>0.019427974</td>\n",
       "      <td>0</td>\n",
       "      <td>1.2958579881656804</td>\n",
       "      <td>0.27656603</td>\n",
       "      <td>0.1475775</td>\n",
       "      <td>0.10958767920425258</td>\n",
       "      <td>1</td>\n",
       "    </tr>\n",
       "    <tr>\n",
       "      <th>3</th>\n",
       "      <td>2441</td>\n",
       "      <td>02 - St. Anger.mp3</td>\n",
       "      <td>92.28515625</td>\n",
       "      <td>1.5321984</td>\n",
       "      <td>2545.9767516650304</td>\n",
       "      <td>0.038557682</td>\n",
       "      <td>0</td>\n",
       "      <td>1.169064748201439</td>\n",
       "      <td>0.42648128</td>\n",
       "      <td>0.33256802</td>\n",
       "      <td>0.14184691775497513</td>\n",
       "      <td>0</td>\n",
       "    </tr>\n",
       "    <tr>\n",
       "      <th>4</th>\n",
       "      <td>3197</td>\n",
       "      <td>08 - The Wait.mp3</td>\n",
       "      <td>161.4990234375</td>\n",
       "      <td>3.1249948</td>\n",
       "      <td>1838.5850343973295</td>\n",
       "      <td>0.013156818</td>\n",
       "      <td>0</td>\n",
       "      <td>0.9695431472081218</td>\n",
       "      <td>0.15927805</td>\n",
       "      <td>0.119250305</td>\n",
       "      <td>0.06252768605025773</td>\n",
       "      <td>0</td>\n",
       "    </tr>\n",
       "  </tbody>\n",
       "</table>\n",
       "</div>"
      ],
      "text/plain": [
       "   index                     track_name                bpm  \\\n",
       "0    148              4 - Limelight.mp3  89.10290948275862   \n",
       "1   3722  07 - Orion (Instrumental).mp3       129.19921875   \n",
       "2   2120           1 - Bastille Day.mp3         103.359375   \n",
       "3   2441             02 - St. Anger.mp3        92.28515625   \n",
       "4   3197              08 - The Wait.mp3     161.4990234375   \n",
       "\n",
       "  harmonic_rythmic_ratio   spectral_centroid spectral_flatness  \\\n",
       "0              3.5583296  1686.4585213145274        0.00582094   \n",
       "1              4.8556867  2000.2844087632832       0.013070458   \n",
       "2              1.3164884  2098.2022756528363       0.019427974   \n",
       "3              1.5321984  2545.9767516650304       0.038557682   \n",
       "4              3.1249948  1838.5850343973295       0.013156818   \n",
       "\n",
       "  count_delta_above_mean ratio_above_rmse_mean     max_rmse     mean_rms  \\\n",
       "0                      0    0.6911764705882353  0.097900845  0.056995194   \n",
       "1                     12    0.5436241610738255   0.20186672  0.079553574   \n",
       "2                      0    1.2958579881656804   0.27656603    0.1475775   \n",
       "3                      0     1.169064748201439   0.42648128   0.33256802   \n",
       "4                      0    0.9695431472081218   0.15927805  0.119250305   \n",
       "\n",
       "              mean_zcr  band  \n",
       "0  0.07279778079710145     1  \n",
       "1  0.06671832540760869     0  \n",
       "2  0.10958767920425258     1  \n",
       "3  0.14184691775497513     0  \n",
       "4  0.06252768605025773     0  "
      ]
     },
     "execution_count": 2,
     "metadata": {},
     "output_type": "execute_result"
    }
   ],
   "source": [
    "df.head()"
   ]
  },
  {
   "cell_type": "code",
   "execution_count": 3,
   "metadata": {},
   "outputs": [
    {
     "data": {
      "text/html": [
       "<div>\n",
       "<style scoped>\n",
       "    .dataframe tbody tr th:only-of-type {\n",
       "        vertical-align: middle;\n",
       "    }\n",
       "\n",
       "    .dataframe tbody tr th {\n",
       "        vertical-align: top;\n",
       "    }\n",
       "\n",
       "    .dataframe thead th {\n",
       "        text-align: right;\n",
       "    }\n",
       "</style>\n",
       "<table border=\"1\" class=\"dataframe\">\n",
       "  <thead>\n",
       "    <tr style=\"text-align: right;\">\n",
       "      <th></th>\n",
       "      <th>bpm</th>\n",
       "      <th>harmonic_rythmic_ratio</th>\n",
       "      <th>spectral_centroid</th>\n",
       "      <th>spectral_flatness</th>\n",
       "      <th>count_delta_above_mean</th>\n",
       "      <th>ratio_above_rmse_mean</th>\n",
       "      <th>max_rmse</th>\n",
       "      <th>mean_rms</th>\n",
       "      <th>mean_zcr</th>\n",
       "    </tr>\n",
       "  </thead>\n",
       "  <tbody>\n",
       "    <tr>\n",
       "      <th>0</th>\n",
       "      <td>89.102909</td>\n",
       "      <td>3.558330</td>\n",
       "      <td>1686.458521</td>\n",
       "      <td>0.005821</td>\n",
       "      <td>0</td>\n",
       "      <td>0.691176</td>\n",
       "      <td>0.097901</td>\n",
       "      <td>0.056995</td>\n",
       "      <td>0.072798</td>\n",
       "    </tr>\n",
       "    <tr>\n",
       "      <th>1</th>\n",
       "      <td>129.199219</td>\n",
       "      <td>4.855687</td>\n",
       "      <td>2000.284409</td>\n",
       "      <td>0.013070</td>\n",
       "      <td>12</td>\n",
       "      <td>0.543624</td>\n",
       "      <td>0.201867</td>\n",
       "      <td>0.079554</td>\n",
       "      <td>0.066718</td>\n",
       "    </tr>\n",
       "    <tr>\n",
       "      <th>2</th>\n",
       "      <td>103.359375</td>\n",
       "      <td>1.316488</td>\n",
       "      <td>2098.202276</td>\n",
       "      <td>0.019428</td>\n",
       "      <td>0</td>\n",
       "      <td>1.295858</td>\n",
       "      <td>0.276566</td>\n",
       "      <td>0.147578</td>\n",
       "      <td>0.109588</td>\n",
       "    </tr>\n",
       "    <tr>\n",
       "      <th>3</th>\n",
       "      <td>92.285156</td>\n",
       "      <td>1.532198</td>\n",
       "      <td>2545.976752</td>\n",
       "      <td>0.038558</td>\n",
       "      <td>0</td>\n",
       "      <td>1.169065</td>\n",
       "      <td>0.426481</td>\n",
       "      <td>0.332568</td>\n",
       "      <td>0.141847</td>\n",
       "    </tr>\n",
       "    <tr>\n",
       "      <th>4</th>\n",
       "      <td>161.499023</td>\n",
       "      <td>3.124995</td>\n",
       "      <td>1838.585034</td>\n",
       "      <td>0.013157</td>\n",
       "      <td>0</td>\n",
       "      <td>0.969543</td>\n",
       "      <td>0.159278</td>\n",
       "      <td>0.119250</td>\n",
       "      <td>0.062528</td>\n",
       "    </tr>\n",
       "  </tbody>\n",
       "</table>\n",
       "</div>"
      ],
      "text/plain": [
       "          bpm  harmonic_rythmic_ratio  spectral_centroid  spectral_flatness  \\\n",
       "0   89.102909                3.558330        1686.458521           0.005821   \n",
       "1  129.199219                4.855687        2000.284409           0.013070   \n",
       "2  103.359375                1.316488        2098.202276           0.019428   \n",
       "3   92.285156                1.532198        2545.976752           0.038558   \n",
       "4  161.499023                3.124995        1838.585034           0.013157   \n",
       "\n",
       "   count_delta_above_mean  ratio_above_rmse_mean  max_rmse  mean_rms  mean_zcr  \n",
       "0                       0               0.691176  0.097901  0.056995  0.072798  \n",
       "1                      12               0.543624  0.201867  0.079554  0.066718  \n",
       "2                       0               1.295858  0.276566  0.147578  0.109588  \n",
       "3                       0               1.169065  0.426481  0.332568  0.141847  \n",
       "4                       0               0.969543  0.159278  0.119250  0.062528  "
      ]
     },
     "execution_count": 3,
     "metadata": {},
     "output_type": "execute_result"
    }
   ],
   "source": [
    "X.head()"
   ]
  },
  {
   "cell_type": "code",
   "execution_count": 4,
   "metadata": {},
   "outputs": [],
   "source": [
    "### try knn, then write a function to explore the rest\n",
    "X_train, X_test, y_train, y_test = train_test_split(X, y, test_size=0.3, random_state=42)\n",
    "\n",
    "ssX = StandardScaler()\n",
    "X_train_scaled = ssX.fit_transform(X_train)\n",
    "X_test_scaled  = ssX.transform(X_test)\n"
   ]
  },
  {
   "cell_type": "code",
   "execution_count": 5,
   "metadata": {},
   "outputs": [],
   "source": [
    "#### KNN Model"
   ]
  },
  {
   "cell_type": "code",
   "execution_count": 6,
   "metadata": {},
   "outputs": [],
   "source": [
    "knn = KNeighborsClassifier(n_neighbors=5)\n",
    "knn.fit(X_train_scaled, y_train)\n",
    "y_pred = knn.predict(X_train_scaled)"
   ]
  },
  {
   "cell_type": "code",
   "execution_count": 7,
   "metadata": {},
   "outputs": [
    {
     "name": "stdout",
     "output_type": "stream",
     "text": [
      "0.858668424522083\n",
      "{'n_neighbors': 6, 'weights': 'distance'}\n",
      "KNeighborsClassifier(algorithm='auto', leaf_size=30, metric='minkowski',\n",
      "           metric_params=None, n_jobs=1, n_neighbors=6, p=2,\n",
      "           weights='distance')\n"
     ]
    }
   ],
   "source": [
    "####\n",
    "k_range = list(range(1, 10))\n",
    "weight_options = ['uniform', 'distance']\n",
    "param_grid = dict(n_neighbors=k_range, weights=weight_options)\n",
    "# instantiate and fit the grid\n",
    "grid = GridSearchCV(knn, param_grid, cv=10, scoring='accuracy')\n",
    "grid.fit(X_train_scaled, y_train)\n",
    "# examine the best model\n",
    "print(grid.best_score_)\n",
    "print(grid.best_params_)\n",
    "print(grid.best_estimator_)"
   ]
  },
  {
   "cell_type": "code",
   "execution_count": 8,
   "metadata": {},
   "outputs": [
    {
     "data": {
      "text/plain": [
       "0.8677330052291603"
      ]
     },
     "execution_count": 8,
     "metadata": {},
     "output_type": "execute_result"
    }
   ],
   "source": [
    "prediction_hard = grid.predict(X_test_scaled)\n",
    "actual = y_test\n",
    "accuracy_score(y_test,prediction_hard)"
   ]
  },
  {
   "cell_type": "code",
   "execution_count": 9,
   "metadata": {},
   "outputs": [
    {
     "name": "stdout",
     "output_type": "stream",
     "text": [
      "0.13226699477083975\n"
     ]
    },
    {
     "data": {
      "text/plain": [
       "array([[1649,  249],\n",
       "       [ 181, 1172]])"
      ]
     },
     "execution_count": 9,
     "metadata": {},
     "output_type": "execute_result"
    }
   ],
   "source": [
    "# confusion matrix\n",
    "\n",
    "miscount = 0\n",
    "\n",
    "for index, prediction in enumerate(prediction_hard):\n",
    "    #print(prediction, actual.iloc[index])\n",
    "    if prediction != actual.iloc[index]:\n",
    "        #print(df.iloc[index])\n",
    "        miscount += 1\n",
    "        \n",
    "print(miscount/len(prediction_hard))\n",
    "## I actually really like the songs it misclassified,\n",
    "## and I still haven't considered prec/recall balancing\n",
    "confusion_matrix(y_test,prediction_hard)"
   ]
  },
  {
   "cell_type": "code",
   "execution_count": 10,
   "metadata": {},
   "outputs": [
    {
     "data": {
      "text/plain": [
       "0.8677330052291603"
      ]
     },
     "execution_count": 10,
     "metadata": {},
     "output_type": "execute_result"
    }
   ],
   "source": [
    "grid.score(X_test_scaled, y_test)"
   ]
  },
  {
   "cell_type": "code",
   "execution_count": 11,
   "metadata": {},
   "outputs": [],
   "source": [
    "from sklearn.decomposition import PCA\n",
    "pca = PCA(n_components=2)\n",
    "pca.fit(X_train_scaled)\n",
    "pcafeatures_train = pca.transform(X_train_scaled)"
   ]
  },
  {
   "cell_type": "code",
   "execution_count": 12,
   "metadata": {},
   "outputs": [
    {
     "data": {
      "text/html": [
       "<div>\n",
       "<style scoped>\n",
       "    .dataframe tbody tr th:only-of-type {\n",
       "        vertical-align: middle;\n",
       "    }\n",
       "\n",
       "    .dataframe tbody tr th {\n",
       "        vertical-align: top;\n",
       "    }\n",
       "\n",
       "    .dataframe thead th {\n",
       "        text-align: right;\n",
       "    }\n",
       "</style>\n",
       "<table border=\"1\" class=\"dataframe\">\n",
       "  <thead>\n",
       "    <tr style=\"text-align: right;\">\n",
       "      <th></th>\n",
       "      <th>bpm</th>\n",
       "      <th>harmonic_rythmic_ratio</th>\n",
       "      <th>spectral_centroid</th>\n",
       "      <th>spectral_flatness</th>\n",
       "      <th>count_delta_above_mean</th>\n",
       "      <th>ratio_above_rmse_mean</th>\n",
       "      <th>max_rmse</th>\n",
       "      <th>mean_rms</th>\n",
       "      <th>mean_zcr</th>\n",
       "    </tr>\n",
       "  </thead>\n",
       "  <tbody>\n",
       "    <tr>\n",
       "      <th>0</th>\n",
       "      <td>89.102909</td>\n",
       "      <td>3.558330</td>\n",
       "      <td>1686.458521</td>\n",
       "      <td>0.005821</td>\n",
       "      <td>0</td>\n",
       "      <td>0.691176</td>\n",
       "      <td>0.097901</td>\n",
       "      <td>0.056995</td>\n",
       "      <td>0.072798</td>\n",
       "    </tr>\n",
       "    <tr>\n",
       "      <th>1</th>\n",
       "      <td>129.199219</td>\n",
       "      <td>4.855687</td>\n",
       "      <td>2000.284409</td>\n",
       "      <td>0.013070</td>\n",
       "      <td>12</td>\n",
       "      <td>0.543624</td>\n",
       "      <td>0.201867</td>\n",
       "      <td>0.079554</td>\n",
       "      <td>0.066718</td>\n",
       "    </tr>\n",
       "    <tr>\n",
       "      <th>2</th>\n",
       "      <td>103.359375</td>\n",
       "      <td>1.316488</td>\n",
       "      <td>2098.202276</td>\n",
       "      <td>0.019428</td>\n",
       "      <td>0</td>\n",
       "      <td>1.295858</td>\n",
       "      <td>0.276566</td>\n",
       "      <td>0.147578</td>\n",
       "      <td>0.109588</td>\n",
       "    </tr>\n",
       "    <tr>\n",
       "      <th>3</th>\n",
       "      <td>92.285156</td>\n",
       "      <td>1.532198</td>\n",
       "      <td>2545.976752</td>\n",
       "      <td>0.038558</td>\n",
       "      <td>0</td>\n",
       "      <td>1.169065</td>\n",
       "      <td>0.426481</td>\n",
       "      <td>0.332568</td>\n",
       "      <td>0.141847</td>\n",
       "    </tr>\n",
       "    <tr>\n",
       "      <th>4</th>\n",
       "      <td>161.499023</td>\n",
       "      <td>3.124995</td>\n",
       "      <td>1838.585034</td>\n",
       "      <td>0.013157</td>\n",
       "      <td>0</td>\n",
       "      <td>0.969543</td>\n",
       "      <td>0.159278</td>\n",
       "      <td>0.119250</td>\n",
       "      <td>0.062528</td>\n",
       "    </tr>\n",
       "  </tbody>\n",
       "</table>\n",
       "</div>"
      ],
      "text/plain": [
       "          bpm  harmonic_rythmic_ratio  spectral_centroid  spectral_flatness  \\\n",
       "0   89.102909                3.558330        1686.458521           0.005821   \n",
       "1  129.199219                4.855687        2000.284409           0.013070   \n",
       "2  103.359375                1.316488        2098.202276           0.019428   \n",
       "3   92.285156                1.532198        2545.976752           0.038558   \n",
       "4  161.499023                3.124995        1838.585034           0.013157   \n",
       "\n",
       "   count_delta_above_mean  ratio_above_rmse_mean  max_rmse  mean_rms  mean_zcr  \n",
       "0                       0               0.691176  0.097901  0.056995  0.072798  \n",
       "1                      12               0.543624  0.201867  0.079554  0.066718  \n",
       "2                       0               1.295858  0.276566  0.147578  0.109588  \n",
       "3                       0               1.169065  0.426481  0.332568  0.141847  \n",
       "4                       0               0.969543  0.159278  0.119250  0.062528  "
      ]
     },
     "execution_count": 12,
     "metadata": {},
     "output_type": "execute_result"
    }
   ],
   "source": [
    "X.head()"
   ]
  },
  {
   "cell_type": "code",
   "execution_count": 13,
   "metadata": {},
   "outputs": [
    {
     "data": {
      "image/png": "[encoded data removed]",
      "text/plain": [
       "<Figure size 864x576 with 1 Axes>"
      ]
     },
     "metadata": {},
     "output_type": "display_data"
    }
   ],
   "source": [
    "from itertools import cycle\n",
    "\n",
    "def plot_PCA_2D(data, target, target_names):\n",
    "    colors = cycle(['r','b','g','c','m','y','orange','k','aqua','yellow'])\n",
    "    target_ids = range(len(target_names))\n",
    "    plt.figure()\n",
    "    for i, c, label in zip(target_ids, colors, target_names):\n",
    "        plt.scatter(data[target == i, 0], data[target == i, 1],\n",
    "                   c=c, label=label)\n",
    "    plt.legend()\n",
    "\n",
    "    \n",
    "plot_PCA_2D(pcafeatures_train, target=y_train.astype(int), target_names=['Metallica', 'Rush'])\n",
    "plt.gcf().set_size_inches(12,8)\n",
    "    "
   ]
  },
  {
   "cell_type": "code",
   "execution_count": 14,
   "metadata": {},
   "outputs": [],
   "source": [
    "from sklearn.manifold import TSNE\n",
    "\n",
    "Xsne = TSNE(n_components=2,perplexity=100.0).fit_transform(X_train_scaled[:1000,:])\n"
   ]
  },
  {
   "cell_type": "code",
   "execution_count": 15,
   "metadata": {},
   "outputs": [
    {
     "data": {
      "text/plain": [
       "<matplotlib.collections.PathCollection at 0x113870d30>"
      ]
     },
     "execution_count": 15,
     "metadata": {},
     "output_type": "execute_result"
    },
    {
     "data": {
      "image/png": "[encoded data removed]",
      "text/plain": [
       "<Figure size 432x288 with 1 Axes>"
      ]
     },
     "metadata": {},
     "output_type": "display_data"
    }
   ],
   "source": [
    "plt.scatter(Xsne[:,0],Xsne[:,1],c=['r' if band==1 else 'b' for band in y_train])"
   ]
  },
  {
   "cell_type": "code",
   "execution_count": 16,
   "metadata": {
    "scrolled": true
   },
   "outputs": [],
   "source": [
    "#import seaborn as sns; sns.set(font_scale=1.2)\n",
    "#sns.pairplot(df, hue='band')"
   ]
  },
  {
   "cell_type": "code",
   "execution_count": 17,
   "metadata": {},
   "outputs": [],
   "source": [
    "### Try Logisitic Regression"
   ]
  },
  {
   "cell_type": "code",
   "execution_count": 18,
   "metadata": {},
   "outputs": [
    {
     "data": {
      "text/plain": [
       "LogisticRegression(C=1000, class_weight=None, dual=False, fit_intercept=True,\n",
       "          intercept_scaling=1, max_iter=100, multi_class='ovr', n_jobs=1,\n",
       "          penalty='l2', random_state=None, solver='liblinear', tol=0.0001,\n",
       "          verbose=0, warm_start=False)"
      ]
     },
     "execution_count": 18,
     "metadata": {},
     "output_type": "execute_result"
    }
   ],
   "source": [
    "lm1 = LogisticRegression(C=1000)\n",
    "lm1.fit(X_train_scaled, y_train)"
   ]
  },
  {
   "cell_type": "code",
   "execution_count": 19,
   "metadata": {},
   "outputs": [
    {
     "data": {
      "text/plain": [
       "0.6988793671720501"
      ]
     },
     "execution_count": 19,
     "metadata": {},
     "output_type": "execute_result"
    }
   ],
   "source": [
    "lm1.score(X_train_scaled, y_train) "
   ]
  },
  {
   "cell_type": "code",
   "execution_count": 20,
   "metadata": {},
   "outputs": [
    {
     "data": {
      "text/plain": [
       "0.7154721624115656"
      ]
     },
     "execution_count": 20,
     "metadata": {},
     "output_type": "execute_result"
    }
   ],
   "source": [
    "prediction_hard = lm1.predict(X_test_scaled)\n",
    "actual = y_test\n",
    "# check accuracy\n",
    "accuracy_score(y_test,prediction_hard)"
   ]
  },
  {
   "cell_type": "code",
   "execution_count": 21,
   "metadata": {},
   "outputs": [
    {
     "data": {
      "text/plain": [
       "0.2845278375884343"
      ]
     },
     "execution_count": 21,
     "metadata": {},
     "output_type": "execute_result"
    }
   ],
   "source": [
    "miscount = 0\n",
    "for index, prediction in enumerate(prediction_hard):\n",
    "    #print(prediction, actual.iloc[index])\n",
    "    if prediction != actual.iloc[index]:\n",
    "        #print(df.iloc[index])\n",
    "        miscount += 1\n",
    "        \n",
    "miscount/len(prediction_hard)\n",
    "### Actually those two songs I really like, I really like them.\n",
    "### So my features don't really captures the ones I really, really like \n",
    "### yet...... but logistic regression does pretty weel"
   ]
  },
  {
   "cell_type": "code",
   "execution_count": 22,
   "metadata": {},
   "outputs": [
    {
     "name": "stderr",
     "output_type": "stream",
     "text": [
      "/Users/mcassettix/anaconda3/lib/python3.6/site-packages/sklearn/linear_model/stochastic_gradient.py:128: FutureWarning: max_iter and tol parameters have been added in <class 'sklearn.linear_model.stochastic_gradient.SGDClassifier'> in 0.19. If both are left unset, they default to max_iter=5 and tol=None. If tol is not None, max_iter defaults to max_iter=1000. From 0.21, default max_iter will be 1000, and default tol will be 1e-3.\n",
      "  \"and default tol will be 1e-3.\" % type(self), FutureWarning)\n"
     ]
    },
    {
     "name": "stdout",
     "output_type": "stream",
     "text": [
      "CPU times: user 7.9 s, sys: 131 ms, total: 8.03 s\n",
      "Wall time: 7.15 s\n"
     ]
    },
    {
     "data": {
      "image/png": "[encoded data removed]",
      "text/plain": [
       "<Figure size 600x400 with 1 Axes>"
      ]
     },
     "metadata": {},
     "output_type": "display_data"
    }
   ],
   "source": [
    "%%time\n",
    "models = [RandomForestClassifier(), DecisionTreeClassifier(),BaggingClassifier(base_estimator=DecisionTreeClassifier()),\n",
    "          SVC(kernel='rbf',probability=True),LogisticRegression(), SGDClassifier(loss='log', random_state=42),GradientBoostingClassifier(),GaussianNB(),KNeighborsClassifier()]\n",
    "model_names = [\"Random Forest\", \"Decision Tree\",'Bagging Classifier','SVC','Logistic','SGD-Log','Gradient Booster','Gaussian','KNN']\n",
    "\n",
    "roc_plotting_stuff = []\n",
    "for clf, name in zip(models, model_names):\n",
    "    clf.fit(X_train_scaled, y_train)\n",
    "    preds = clf.predict_proba(X_test_scaled)\n",
    "    fpr, tpr, _ = roc_curve(y_test, preds[:,1])\n",
    "    auc_score = auc(fpr, tpr)\n",
    "    roc_plotting_stuff.append((name, tpr, fpr, auc_score))\n",
    "\n",
    "plt.figure(dpi=100)\n",
    "for name, tpr, fpr, auc_score in roc_plotting_stuff:\n",
    "    plt.plot(fpr, tpr, label=name+' (auc: %.2f)'%auc_score)\n",
    "    \n",
    "plt.legend(loc='lower right', fontsize=9)\n",
    "plt.plot([0, 1], [0, 1], color='k', linestyle='--');\n",
    "plt.xlabel(\"False Positive Rate\")\n",
    "plt.ylabel(\"True Positive Rate\")\n",
    "plt.title(\"Comparing ROC Curves\");"
   ]
  },
  {
   "cell_type": "code",
   "execution_count": 23,
   "metadata": {},
   "outputs": [],
   "source": [
    "from sklearn.neighbors import KNeighborsClassifier as KNN\n",
    "from sklearn.linear_model import LogisticRegression\n",
    "from sklearn.svm import SVC\n",
    "from sklearn.tree import DecisionTreeClassifier\n",
    "from sklearn.ensemble import RandomForestClassifier"
   ]
  },
  {
   "cell_type": "code",
   "execution_count": 24,
   "metadata": {},
   "outputs": [
    {
     "name": "stdout",
     "output_type": "stream",
     "text": [
      "knn: best score: 0.8531311799604483\n",
      "logistic: best score: 0.7008569545154911\n",
      "tree: best score: 0.798681608437706\n",
      "forest: best score: 0.8044825313117996\n",
      "svm: best score: 0.8656558998022412\n"
     ]
    }
   ],
   "source": [
    "#svc = SVC(probability=True)\n",
    "models = [('knn', KNN), \n",
    "          ('logistic', LogisticRegression),\n",
    "          ('tree', DecisionTreeClassifier),\n",
    "          ('forest', RandomForestClassifier),\n",
    "          ('svm', SVC)\n",
    "         ]\n",
    "\n",
    "param_choices = [\n",
    "    {\n",
    "        'n_neighbors': range(1, 12),\n",
    "        'weights': ['uniform', 'distance']\n",
    "    },\n",
    "    {\n",
    "        'C': np.logspace(-3,6, 12),\n",
    "        'penalty': ['l1', 'l2']\n",
    "    },\n",
    "    {\n",
    "        'max_depth': [1,2,3,4,5],\n",
    "        'min_samples_leaf': [3,6,10]\n",
    "    },\n",
    "    {\n",
    "       'n_estimators': [50, 100, 200],\n",
    "       'max_depth': [1,2,3,4,5],\n",
    "       'min_samples_leaf': [3,6,10]\n",
    "    },\n",
    "    {\n",
    "        'C': [50,100], \n",
    "        'kernel': ['rbf'] ,\n",
    "        'probability': [True]\n",
    "    },\n",
    " \n",
    "]\n",
    "    \n",
    "    \n",
    "\n",
    "\n",
    "grids = {}\n",
    "for model_info, params in zip(models, param_choices):\n",
    "    name, model = model_info\n",
    "    grid = GridSearchCV(model(), params)\n",
    "    grid.fit(X_train_scaled, y_train)\n",
    "    s = f\"{name}: best score: {grid.best_score_}\"\n",
    "    print(s)\n",
    "    grids[name] = grid"
   ]
  },
  {
   "cell_type": "code",
   "execution_count": 25,
   "metadata": {},
   "outputs": [
    {
     "data": {
      "text/plain": [
       "0.8775761304214088"
      ]
     },
     "execution_count": 25,
     "metadata": {},
     "output_type": "execute_result"
    }
   ],
   "source": [
    "# Let's get the testing score\n",
    "grids['svm'].best_estimator_.score(X_test_scaled, y_test)"
   ]
  },
  {
   "cell_type": "code",
   "execution_count": 26,
   "metadata": {},
   "outputs": [
    {
     "data": {
      "text/plain": [
       "SVC(C=50, cache_size=200, class_weight=None, coef0=0.0,\n",
       "  decision_function_shape='ovr', degree=3, gamma='auto', kernel='rbf',\n",
       "  max_iter=-1, probability=True, random_state=None, shrinking=True,\n",
       "  tol=0.001, verbose=False)"
      ]
     },
     "execution_count": 26,
     "metadata": {},
     "output_type": "execute_result"
    }
   ],
   "source": [
    "grids['svm'].best_estimator_"
   ]
  },
  {
   "cell_type": "code",
   "execution_count": 27,
   "metadata": {},
   "outputs": [],
   "source": [
    "#import seaborn as sns; sns.set(font_scale=1.2)\n",
    "#sns.pairplot(df.drop('index',axis=1), hue='band')"
   ]
  },
  {
   "cell_type": "code",
   "execution_count": 28,
   "metadata": {},
   "outputs": [
    {
     "data": {
      "text/plain": [
       "0.8775761304214088"
      ]
     },
     "execution_count": 28,
     "metadata": {},
     "output_type": "execute_result"
    }
   ],
   "source": [
    "prediction_hard = grids['svm'].best_estimator_.predict(X_test_scaled)\n",
    "actual = y_test\n",
    "accuracy_score(y_test,prediction_hard)"
   ]
  },
  {
   "cell_type": "code",
   "execution_count": 29,
   "metadata": {},
   "outputs": [],
   "source": [
    "# %%time\n",
    "# from sklearn.model_selection import learning_curve\n",
    "# train_sizes, train_scores, test_scores = learning_curve(grids['svm'], X_train_scaled, y_train, cv = 10)\n"
   ]
  },
  {
   "cell_type": "code",
   "execution_count": 30,
   "metadata": {},
   "outputs": [],
   "source": [
    "# %%time\n",
    "# ave_train_scores = train_scores.mean(axis=1)\n",
    "# ave_test_scores = test_scores.mean(axis=1)\n",
    "\n",
    "# learn_df = pd.DataFrame({\n",
    "#     'train_size': train_sizes,\n",
    "#     'train_score': ave_train_scores,\n",
    "#     'test_score': ave_test_scores\n",
    "# })\n",
    "\n",
    "# plt.plot(learn_df['train_size'], learn_df['train_score'], 'r--o', label='train scores')\n",
    "# plt.plot(learn_df['train_size'], learn_df['test_score'], 'b--x', label='test size')\n",
    "# plt.legend(loc='lower right')\n",
    "# plt.ylim(-1,1)"
   ]
  },
  {
   "cell_type": "code",
   "execution_count": 31,
   "metadata": {},
   "outputs": [
    {
     "name": "stdout",
     "output_type": "stream",
     "text": [
      "svm <class 'sklearn.svm.classes.SVC'>\n",
      "svm: best score: 0.8672379696769941\n",
      "CPU times: user 8min 42s, sys: 2.18 s, total: 8min 44s\n",
      "Wall time: 8min 44s\n"
     ]
    }
   ],
   "source": [
    "%%time\n",
    "## Tune the hyper parameters of svm if possible and refit!\n",
    "\n",
    "models = [('svm',SVC)]\n",
    "\n",
    "gamma_range = np.logspace(-2, 0, 5)\n",
    "C_range = np.logspace(1.75,2.5,5)\n",
    "\n",
    "param_choices = [\n",
    "\n",
    "   {\n",
    "       'C': C_range, \n",
    "       'kernel': ['rbf'],\n",
    "       'gamma': gamma_range,\n",
    "       'probability': [True]\n",
    "   },\n",
    " \n",
    "]\n",
    "grids = {}\n",
    "for model_info, params in zip(models, param_choices):\n",
    "    name, model = model_info\n",
    "    print(name,model)\n",
    "    grid = GridSearchCV(model(), params)\n",
    "    grid.fit(X_train_scaled, y_train)\n",
    "    s = f\"{name}: best score: {grid.best_score_}\"\n",
    "    print(s)\n",
    "    grids[name] = grid"
   ]
  },
  {
   "cell_type": "code",
   "execution_count": 32,
   "metadata": {},
   "outputs": [
    {
     "data": {
      "text/plain": [
       "0.87603814211012"
      ]
     },
     "execution_count": 32,
     "metadata": {},
     "output_type": "execute_result"
    }
   ],
   "source": [
    "prediction_hard = grids['svm'].best_estimator_.predict(X_test_scaled)\n",
    "actual = y_test\n",
    "accuracy_score(y_test,prediction_hard) #BETTER!"
   ]
  },
  {
   "cell_type": "code",
   "execution_count": null,
   "metadata": {},
   "outputs": [],
   "source": [
    "# %%time\n",
    "from sklearn.model_selection import learning_curve\n",
    "train_sizes, train_scores, test_scores = learning_curve(grids['svm'], X_train_scaled, y_train, cv = 10)\n",
    "ave_train_scores = train_scores.mean(axis=1)\n",
    "ave_test_scores = test_scores.mean(axis=1)\n",
    "\n",
    "learn_df = pd.DataFrame({\n",
    "    'train_size': train_sizes,\n",
    "    'train_score': ave_train_scores,\n",
    "    'test_score': ave_test_scores\n",
    "})\n",
    "\n",
    "plt.plot(learn_df['train_size'], learn_df['train_score'], 'r--o', label='train scores')\n",
    "plt.plot(learn_df['train_size'], learn_df['test_score'], 'b--x', label='test size')\n",
    "plt.legend(loc='lower right')\n",
    "plt.ylim(-1,1)"
   ]
  },
  {
   "cell_type": "code",
   "execution_count": 34,
   "metadata": {},
   "outputs": [],
   "source": [
    "## find which features separate the most...?? of the ones that mis-classify, \n",
    "## what is having the most trouble\n",
    "### do other approach... then get two proba\n",
    "#### logisitic regression with the proba"
   ]
  },
  {
   "cell_type": "code",
   "execution_count": 35,
   "metadata": {},
   "outputs": [],
   "source": [
    "## EXPORT MODEL 1\n",
    "from sklearn.pipeline import Pipeline\n",
    "import pickle\n",
    "\n",
    "pipeline = Pipeline([('scaler', StandardScaler()),\n",
    "                     ('svm', SVC(**grids['svm'].best_params_))])\n",
    "pipeline.fit(X_train_scaled,y_train)\n",
    "\n",
    "\n",
    "pickle.dump(pipeline, open('model_new.pkl', 'wb'))\n",
    "\n",
    "test_data = [X_test_scaled,y_test]\n",
    "pickle.dump(test_data,open('test_data.pkl','wb'))"
   ]
  },
  {
   "cell_type": "code",
   "execution_count": 36,
   "metadata": {},
   "outputs": [],
   "source": [
    "train_data = [X_train_scaled,y_train]\n",
    "pickle.dump(train_data,open('training_data.pkl','wb'))"
   ]
  },
  {
   "cell_type": "code",
   "execution_count": 37,
   "metadata": {},
   "outputs": [],
   "source": [
    "test_data_unscaled = X_test\n",
    "pd.to_pickle(test_data_unscaled,'test_data_unscaled.pkl')"
   ]
  },
  {
   "cell_type": "code",
   "execution_count": 52,
   "metadata": {},
   "outputs": [],
   "source": [
    "train_data = ssX\n",
    "pickle.dump(train_data,open('ssX.pkl','wb'))"
   ]
  },
  {
   "cell_type": "code",
   "execution_count": 53,
   "metadata": {},
   "outputs": [],
   "source": [
    "train_data_unscaled = X_train\n",
    "pd.to_pickle(train_data_unscaled,'train_data_unscaled.pkl')"
   ]
  },
  {
   "cell_type": "code",
   "execution_count": 54,
   "metadata": {},
   "outputs": [
    {
     "data": {
      "text/plain": [
       "array([[1684,  214],\n",
       "       [ 189, 1164]])"
      ]
     },
     "execution_count": 54,
     "metadata": {},
     "output_type": "execute_result"
    }
   ],
   "source": [
    "confusion_matrix(y_test,prediction_hard)"
   ]
  },
  {
   "cell_type": "code",
   "execution_count": 258,
   "metadata": {},
   "outputs": [
    {
     "name": "stdout",
     "output_type": "stream",
     "text": [
      "             precision    recall  f1-score   support\n",
      "\n",
      "          0       0.90      0.89      0.89      1898\n",
      "          1       0.84      0.86      0.85      1353\n",
      "\n",
      "avg / total       0.88      0.88      0.88      3251\n",
      "\n"
     ]
    }
   ],
   "source": [
    "rep = classification_report(y_test, prediction_hard)\n",
    "print(rep)"
   ]
  },
  {
   "cell_type": "code",
   "execution_count": 228,
   "metadata": {},
   "outputs": [
    {
     "data": {
      "text/plain": [
       "0"
      ]
     },
     "execution_count": 228,
     "metadata": {},
     "output_type": "execute_result"
    }
   ],
   "source": [
    "np.array(y_test)[2] - prediction_hard[2]"
   ]
  },
  {
   "cell_type": "code",
   "execution_count": 244,
   "metadata": {},
   "outputs": [],
   "source": [
    "track_names = []\n",
    "for i in range(0,len(prediction_hard)):\n",
    "    if (np.array(y_test)[i] - prediction_hard[i]) == -1: #misclassifications of metallica\n",
    "        \n",
    "        index = y_test.index[i]\n",
    "        tmp = df.loc[index,:]\n",
    "        if tmp.track_name in track_names:\n",
    "            continue\n",
    "        else:\n",
    "            track_names.append(tmp.track_name)\n"
   ]
  },
  {
   "cell_type": "code",
   "execution_count": 245,
   "metadata": {},
   "outputs": [],
   "source": [
    "from fuzzywuzzy import fuzz\n",
    "from fuzzywuzzy import process\n",
    "albums = {}\n",
    "fp = open('/Users/mcassettix/Music/metallica_discography.txt','r')\n",
    "output = fp.read()\n",
    "index = output.find('ALBUM/TRACK LISTING')\n",
    "new_data = output[index:-1]\n",
    "the_list = new_data.splitlines()\n",
    "for index, line in enumerate(the_list):\n",
    "    if fuzz.partial_ratio('Metallica - 19',line) == 100:\n",
    "        tracks = []\n",
    "        curr_line = line\n",
    "        i = 0\n",
    "        \n",
    "        while(fuzz.partial_ratio('Metallica - 19',curr_line) > 0.0):\n",
    "            tracks.append(curr_line.lstrip())\n",
    "            curr_line = the_list[index + i] \n",
    "            i += 1\n",
    "        albums[line] = tracks\n",
    "        \n",
    "  "
   ]
  },
  {
   "cell_type": "code",
   "execution_count": 252,
   "metadata": {},
   "outputs": [],
   "source": [
    "tmp = []\n",
    "\n",
    "for key,value in albums.items(): \n",
    "    \n",
    "    count = 0\n",
    "    for tracks in track_names:\n",
    "        if tracks in value:\n",
    "            count += 1\n",
    "    tmp.append([key,count/len(value),count,len(value)])\n",
    "        \n",
    "\n",
    "       "
   ]
  },
  {
   "cell_type": "code",
   "execution_count": 253,
   "metadata": {},
   "outputs": [
    {
     "data": {
      "text/plain": [
       "[[\"Metallica - 1983 - Kill 'em All\", 0.16666666666666666, 2, 12],\n",
       " ['Metallica - 1984 - Jump In The Fire', 0.5, 4, 8],\n",
       " ['Metallica - 1984 - Ride The Lightning', 0.8, 8, 10],\n",
       " ['Metallica - 1986 - Master Of Puppets', 0.5, 5, 10],\n",
       " ['Metallica - 1987 - Creeping Death', 0.23076923076923078, 3, 13],\n",
       " ['Metallica - 1987 - The $9.98 Cd Garage Days Re-Revisited', 0.5, 5, 10],\n",
       " ['Metallica - 1988 - And Justice For All', 0.2727272727272727, 3, 11]]"
      ]
     },
     "execution_count": 253,
     "metadata": {},
     "output_type": "execute_result"
    }
   ],
   "source": [
    "tmp[0:7]"
   ]
  },
  {
   "cell_type": "code",
   "execution_count": 254,
   "metadata": {},
   "outputs": [
    {
     "data": {
      "text/plain": [
       "[['Metallica - 1992 - New Skulls For The Old Ceremony',\n",
       "  0.42105263157894735,\n",
       "  8,\n",
       "  19],\n",
       " ['Metallica - 1993 - Live Shit, Binge And Purge - CD 1',\n",
       "  0.6363636363636364,\n",
       "  7,\n",
       "  11],\n",
       " ['Metallica - 1993 - Live Shit, Binge And Purge - CD 2', 0.375, 3, 8],\n",
       " ['Metallica - 1993 - Live Shit, Binge And Purge - CD 3',\n",
       "  0.45454545454545453,\n",
       "  5,\n",
       "  11],\n",
       " ['Metallica - 1994 - One (German Single)', 0.4, 2, 5],\n",
       " ['Metallica - 1996 - Load', 0.5625, 9, 16],\n",
       " ['Metallica - 1997 - Acoustic Metal', 0.07692307692307693, 1, 13],\n",
       " ['Metallica - 1997 - Reload', 0.3333333333333333, 5, 15],\n",
       " ['Metallica - 1998 - Garage Inc - CD 1', 0.23076923076923078, 3, 13],\n",
       " ['Metallica - 1998 - Garage Inc - CD 2', 0.16666666666666666, 3, 18],\n",
       " ['Metallica - 1998 - The Complete Garage Days', 0.2, 4, 20],\n",
       " ['Metallica - 1999 - S & M - CD 1', 0.38461538461538464, 5, 13]]"
      ]
     },
     "execution_count": 254,
     "metadata": {},
     "output_type": "execute_result"
    }
   ],
   "source": [
    "tmp[8:-1]"
   ]
  },
  {
   "cell_type": "code",
   "execution_count": null,
   "metadata": {},
   "outputs": [],
   "source": []
  }
 ],
 "metadata": {
  "kernelspec": {
   "display_name": "Python 3",
   "language": "python",
   "name": "python3"
  },
  "language_info": {
   "codemirror_mode": {
    "name": "ipython",
    "version": 3
   },
   "file_extension": ".py",
   "mimetype": "text/x-python",
   "name": "python",
   "nbconvert_exporter": "python",
   "pygments_lexer": "ipython3",
   "version": "3.6.5"
  }
 },
 "nbformat": 4,
 "nbformat_minor": 2
}
