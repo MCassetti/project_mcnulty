{
 "cells": [
  {
   "cell_type": "code",
   "execution_count": 30,
   "metadata": {
    "ExecuteTime": {
     "end_time": "2018-07-29T05:14:47.808790Z",
     "start_time": "2018-07-29T05:13:47.843985Z"
    }
   },
   "outputs": [
    {
     "name": "stdout",
     "output_type": "stream",
     "text": [
      "Array data\n",
      "shape: (15767552, 2)\n",
      "dtype: int16\n",
      "min, max: -32768 32767\n"
     ]
    },
    {
     "data": {
      "image/png": "[encoded data removed]",
      "text/plain": [
       "<Figure size 432x288 with 1 Axes>"
      ]
     },
     "metadata": {},
     "output_type": "display_data"
    }
   ],
   "source": [
    "import scipy\n",
    "from scipy.io.wavfile import read\n",
    "from scipy.signal import hann\n",
    "from scipy.fftpack import rfft\n",
    "from scipy import signal\n",
    "import matplotlib.pyplot as plt\n",
    "import librosa\n",
    "file_path = '/Users/mcassettix/Downloads/'\n",
    "file_name = 'Bassnectar.wav'\n",
    "\n",
    "def show_info(aname, a):\n",
    "    print(\"Array\", aname)\n",
    "    print(\"shape:\", a.shape)\n",
    "    print(\"dtype:\", a.dtype)\n",
    "    print(\"min, max:\", a.min(), a.max())\n",
    "\n",
    "\n",
    "sampFreq, snd  = read(file_path + file_name)\n",
    "\n",
    "show_info(\"data\", snd)\n",
    "\n",
    "snd = snd / (2.**15)\n",
    "audio = snd[:,0] \n",
    "\n",
    "#audio\n",
    "# apply a Hanning window\n",
    "#window = hann(1024)\n",
    "#audio = audio[0:1024] * window\n",
    "# fft\n",
    "mags = abs(rfft(audio))\n",
    "# convert to dB\n",
    "mags = 20 * scipy.log10(mags)\n",
    "# normalise to 0 dB max\n",
    "mags -= max(mags)\n",
    "# plot\n",
    "plt.plot(mags)\n",
    "# label the axes\n",
    "plt.ylabel(\"Magnitude (dB)\")\n",
    "plt.xlabel(\"Frequency Bin\")\n",
    "# set the title\n",
    "plt.title(\"Audio Spectrum\")\n",
    "plt.show()"
   ]
  },
  {
   "cell_type": "code",
   "execution_count": 31,
   "metadata": {
    "ExecuteTime": {
     "end_time": "2018-07-29T05:14:48.201170Z",
     "start_time": "2018-07-29T05:14:48.180817Z"
    }
   },
   "outputs": [],
   "source": [
    "timeArray = np.arange(0, 1587600, 1)\n",
    "timeArray = timeArray / sampFreq\n",
    "timeArray = timeArray * 1000  #scale to milliseconds\n"
   ]
  },
  {
   "cell_type": "code",
   "execution_count": null,
   "metadata": {
    "ExecuteTime": {
     "end_time": "2018-07-29T04:45:29.887760Z",
     "start_time": "2018-07-29T04:45:29.877012Z"
    }
   },
   "outputs": [],
   "source": []
  },
  {
   "cell_type": "code",
   "execution_count": 32,
   "metadata": {
    "ExecuteTime": {
     "end_time": "2018-07-29T05:15:07.341258Z",
     "start_time": "2018-07-29T05:14:48.572360Z"
    }
   },
   "outputs": [
    {
     "name": "stdout",
     "output_type": "stream",
     "text": [
      "Estimated tempo: 117.45 beats per minute\n"
     ]
    }
   ],
   "source": [
    "# Beat tracking example\n",
    "from __future__ import print_function\n",
    "import librosa\n",
    "\n",
    "# 1. Get the file path to the included audio example\n",
    "filename = file_path + file_name \n",
    "\n",
    "# 2. Load the audio as a waveform `y`\n",
    "#    Store the sampling rate as `sr`\n",
    "y, sr = librosa.load(filename)\n",
    "\n",
    "# 3. Run the default beat tracker\n",
    "tempo, beat_frames = librosa.beat.beat_track(y=y, sr=sr)\n",
    "\n",
    "print('Estimated tempo: {:.2f} beats per minute'.format(tempo))\n",
    "\n",
    "# 4. Convert the frame indices of beat events into timestamps\n",
    "beat_times = librosa.frames_to_time(beat_frames, sr=sr)\n",
    "\n",
    "#print('Saving output to beat_times.csv')\n",
    "#librosa.output.times_csv('beat_times.csv', beat_times)"
   ]
  },
  {
   "cell_type": "code",
   "execution_count": 33,
   "metadata": {
    "ExecuteTime": {
     "end_time": "2018-07-29T05:15:07.748888Z",
     "start_time": "2018-07-29T05:15:07.734868Z"
    }
   },
   "outputs": [
    {
     "data": {
      "text/plain": [
       "array([1.16099773e-01, 6.26938776e-01, 1.18421769e+00, 1.74149660e+00,\n",
       "       2.29877551e+00, 2.85605442e+00, 3.36689342e+00, 3.87773243e+00,\n",
       "       4.38857143e+00, 4.89941043e+00, 5.41024943e+00, 5.92108844e+00,\n",
       "       6.43192744e+00, 6.94276644e+00, 7.45360544e+00, 7.96444444e+00,\n",
       "       8.47528345e+00, 8.98612245e+00, 9.49696145e+00, 1.00078005e+01,\n",
       "       1.05186395e+01, 1.10294785e+01, 1.15403175e+01, 1.20511565e+01,\n",
       "       1.25387755e+01, 1.30263946e+01, 1.35140136e+01, 1.40016327e+01,\n",
       "       1.44892517e+01, 1.49768707e+01, 1.54877098e+01, 1.59985488e+01,\n",
       "       1.64861678e+01, 1.69737868e+01, 1.74614059e+01, 1.79490249e+01,\n",
       "       1.84366440e+01, 1.89474830e+01, 1.94583220e+01, 1.99691610e+01,\n",
       "       2.04567800e+01, 2.09443991e+01, 2.14552381e+01, 2.19428571e+01,\n",
       "       2.24536961e+01, 2.29645351e+01, 2.34753741e+01, 2.39629932e+01,\n",
       "       2.44506122e+01, 2.49382313e+01, 2.54490703e+01, 2.59599093e+01,\n",
       "       2.64475283e+01, 2.69583673e+01, 2.74692063e+01, 2.80032653e+01,\n",
       "       2.85141043e+01, 2.90249433e+01, 2.95357823e+01, 3.00466213e+01,\n",
       "       3.05342404e+01, 3.10450794e+01, 3.15326984e+01, 3.20435374e+01,\n",
       "       3.25543764e+01, 3.30884354e+01, 3.35992744e+01, 3.41333333e+01,\n",
       "       3.46673923e+01, 3.51782313e+01, 3.56890703e+01, 3.62231293e+01,\n",
       "       3.67339683e+01, 3.72215873e+01, 3.77092063e+01, 3.82200454e+01,\n",
       "       3.87076644e+01, 3.91952834e+01, 3.97061224e+01, 4.02169615e+01,\n",
       "       4.07510204e+01, 4.12386395e+01, 4.17494785e+01, 4.22603175e+01,\n",
       "       4.27711565e+01, 4.32819955e+01, 4.37696145e+01, 4.42804535e+01,\n",
       "       4.47912925e+01, 4.53021315e+01, 4.58129705e+01, 4.63238095e+01,\n",
       "       4.68346485e+01, 4.73454875e+01, 4.78563265e+01, 4.83671655e+01,\n",
       "       4.88780045e+01, 4.93888435e+01, 4.98996825e+01, 5.04105215e+01,\n",
       "       5.09213605e+01, 5.14321995e+01, 5.19430385e+01, 5.24538776e+01,\n",
       "       5.29647166e+01, 5.34755556e+01, 5.40096145e+01, 5.44972336e+01,\n",
       "       5.50080726e+01, 5.55189116e+01, 5.60297506e+01, 5.65405896e+01,\n",
       "       5.70746485e+01, 5.75854875e+01, 5.80963265e+01, 5.86071655e+01,\n",
       "       5.91180045e+01, 5.96288435e+01, 6.01396825e+01, 6.06505215e+01,\n",
       "       6.11613605e+01, 6.16721995e+01, 6.21830385e+01, 6.26938776e+01,\n",
       "       6.32047166e+01, 6.37155556e+01, 6.42263946e+01, 6.47372336e+01,\n",
       "       6.52480726e+01, 6.57589116e+01, 6.62697506e+01, 6.68038095e+01,\n",
       "       6.73843084e+01, 6.79415873e+01, 6.84988662e+01, 6.89864853e+01,\n",
       "       6.94276644e+01, 6.98688435e+01, 7.03564626e+01, 7.08905215e+01,\n",
       "       7.14013605e+01, 7.19121995e+01, 7.24230385e+01, 7.29338776e+01,\n",
       "       7.34447166e+01, 7.39555556e+01, 7.44431746e+01, 7.48843537e+01,\n",
       "       7.53255329e+01, 7.58131519e+01, 7.63472109e+01, 7.68580499e+01,\n",
       "       7.73921088e+01, 7.79726077e+01, 7.85298866e+01, 7.89710658e+01,\n",
       "       7.94122449e+01, 7.98998639e+01, 8.04339229e+01, 8.09679819e+01,\n",
       "       8.14788209e+01, 8.19896599e+01, 8.24772789e+01, 8.30113379e+01,\n",
       "       8.34989569e+01, 8.39865760e+01, 8.45206349e+01, 8.50314739e+01,\n",
       "       8.55423129e+01, 8.60299320e+01, 8.65639909e+01, 8.70748299e+01,\n",
       "       8.75856689e+01, 8.80965079e+01, 8.86073469e+01, 8.91414059e+01,\n",
       "       8.96754649e+01, 9.02095238e+01, 9.07203628e+01, 9.12079819e+01,\n",
       "       9.16723810e+01, 9.21832200e+01, 9.26940590e+01, 9.32048980e+01,\n",
       "       9.37157370e+01, 9.42265760e+01, 9.47374150e+01, 9.52482540e+01,\n",
       "       9.57590930e+01, 9.62699320e+01, 9.67111111e+01, 9.71290703e+01,\n",
       "       9.76399093e+01, 9.81507483e+01, 9.86615873e+01, 9.91724263e+01,\n",
       "       9.96832653e+01, 1.00194104e+02, 1.00704943e+02, 1.01215782e+02,\n",
       "       1.01726621e+02, 1.02237460e+02, 1.02748299e+02, 1.03282358e+02,\n",
       "       1.03769977e+02, 1.04280816e+02, 1.04791655e+02, 1.05302494e+02,\n",
       "       1.05813333e+02, 1.06324172e+02, 1.06835011e+02, 1.07345850e+02,\n",
       "       1.07856689e+02, 1.08367528e+02, 1.08878367e+02, 1.09412426e+02,\n",
       "       1.09900045e+02, 1.10434104e+02, 1.10968163e+02, 1.11455782e+02,\n",
       "       1.11989841e+02, 1.12523900e+02, 1.13011519e+02, 1.13499138e+02,\n",
       "       1.13986757e+02, 1.14520816e+02, 1.15031655e+02, 1.15542494e+02,\n",
       "       1.16053333e+02, 1.16564172e+02, 1.17075011e+02, 1.17585850e+02,\n",
       "       1.18096689e+02, 1.18607528e+02, 1.19141587e+02, 1.19698866e+02,\n",
       "       1.20209705e+02, 1.20720544e+02, 1.21208163e+02, 1.21695782e+02,\n",
       "       1.22183401e+02, 1.22694240e+02, 1.23205079e+02, 1.23715918e+02,\n",
       "       1.24226757e+02, 1.24737596e+02, 1.25248435e+02, 1.25759274e+02,\n",
       "       1.26270113e+02, 1.26804172e+02, 1.27338231e+02, 1.27872290e+02,\n",
       "       1.28406349e+02, 1.28917188e+02, 1.29404807e+02, 1.29869206e+02,\n",
       "       1.30356825e+02, 1.30867664e+02, 1.31378503e+02, 1.31889342e+02,\n",
       "       1.32400181e+02, 1.32911020e+02, 1.33421859e+02, 1.33932698e+02,\n",
       "       1.34443537e+02, 1.34954376e+02, 1.35465215e+02, 1.35976054e+02,\n",
       "       1.36486893e+02, 1.36997732e+02, 1.37508571e+02, 1.38019410e+02,\n",
       "       1.38530249e+02, 1.39041088e+02, 1.39551927e+02, 1.40062766e+02,\n",
       "       1.40573605e+02, 1.41084444e+02, 1.41595283e+02, 1.42106122e+02,\n",
       "       1.42616961e+02, 1.43127800e+02, 1.43638639e+02, 1.44149478e+02,\n",
       "       1.44660317e+02, 1.45171156e+02, 1.45681995e+02, 1.46192834e+02,\n",
       "       1.46703673e+02, 1.47237732e+02, 1.47748571e+02, 1.48236190e+02,\n",
       "       1.48747029e+02, 1.49281088e+02, 1.49791927e+02, 1.50302766e+02,\n",
       "       1.50813605e+02, 1.51324444e+02, 1.51835283e+02, 1.52346122e+02,\n",
       "       1.52856961e+02, 1.53367800e+02, 1.53878639e+02, 1.54389478e+02,\n",
       "       1.54900317e+02, 1.55411156e+02, 1.55921995e+02, 1.56432834e+02,\n",
       "       1.56966893e+02, 1.57477732e+02, 1.57988571e+02, 1.58476190e+02,\n",
       "       1.58987029e+02, 1.59497868e+02, 1.60008707e+02, 1.60519546e+02,\n",
       "       1.61192925e+02, 1.61726984e+02, 1.62237823e+02, 1.62748662e+02,\n",
       "       1.63259501e+02, 1.63770340e+02, 1.64281179e+02, 1.64792018e+02,\n",
       "       1.65302857e+02, 1.65813696e+02, 1.66324535e+02, 1.66835374e+02,\n",
       "       1.67346213e+02, 1.67857052e+02, 1.68367891e+02, 1.68878730e+02,\n",
       "       1.69389569e+02, 1.69900408e+02, 1.70411247e+02, 1.70922086e+02,\n",
       "       1.71432925e+02, 1.71943764e+02, 1.72454603e+02, 1.72965442e+02,\n",
       "       1.73476281e+02, 1.73987120e+02, 1.74497959e+02, 1.75008798e+02,\n",
       "       1.75519637e+02, 1.76030476e+02, 1.76564535e+02, 1.77075374e+02,\n",
       "       1.77586213e+02, 1.78097052e+02, 1.78607891e+02, 1.79118730e+02,\n",
       "       1.79629569e+02, 1.80140408e+02, 1.80651247e+02, 1.81162086e+02,\n",
       "       1.81672925e+02, 1.82183764e+02, 1.82694603e+02, 1.83205442e+02,\n",
       "       1.83716281e+02, 1.84227120e+02, 1.84737959e+02, 1.85248798e+02,\n",
       "       1.85759637e+02, 1.86270476e+02, 1.86781315e+02, 1.87292154e+02,\n",
       "       1.87802993e+02, 1.88313832e+02, 1.88824671e+02, 1.89335510e+02,\n",
       "       1.89846349e+02, 1.90357188e+02, 1.90868027e+02, 1.91378866e+02,\n",
       "       1.91889705e+02, 1.92400544e+02, 1.92911383e+02, 1.93422222e+02,\n",
       "       1.93933061e+02, 1.94443900e+02, 1.94954739e+02, 1.95465578e+02,\n",
       "       1.95976417e+02, 1.96487256e+02, 1.97021315e+02, 1.97532154e+02,\n",
       "       1.98042993e+02, 1.98553832e+02, 1.99064671e+02, 1.99575510e+02,\n",
       "       2.00086349e+02, 2.00597188e+02, 2.01108027e+02, 2.01618866e+02,\n",
       "       2.02129705e+02, 2.02640544e+02, 2.03151383e+02, 2.03662222e+02,\n",
       "       2.04173061e+02, 2.04683900e+02, 2.05194739e+02, 2.05705578e+02,\n",
       "       2.06216417e+02, 2.06727256e+02, 2.07238095e+02, 2.07748934e+02,\n",
       "       2.08259773e+02, 2.08770612e+02, 2.09281451e+02, 2.09792290e+02,\n",
       "       2.10303129e+02, 2.10813968e+02, 2.11324807e+02, 2.11835646e+02,\n",
       "       2.12346485e+02, 2.12857324e+02, 2.13368163e+02, 2.13879002e+02,\n",
       "       2.14389841e+02, 2.14900680e+02, 2.15411519e+02, 2.15922358e+02,\n",
       "       2.16433197e+02, 2.16944036e+02, 2.17454875e+02, 2.17965714e+02,\n",
       "       2.18499773e+02, 2.18987392e+02, 2.19521451e+02, 2.20055510e+02,\n",
       "       2.20566349e+02, 2.21123628e+02, 2.21634467e+02, 2.22122086e+02,\n",
       "       2.22586485e+02, 2.23097324e+02, 2.23608163e+02, 2.24119002e+02,\n",
       "       2.24629841e+02, 2.25140680e+02, 2.25651519e+02, 2.26162358e+02,\n",
       "       2.26673197e+02, 2.27160816e+02, 2.27601995e+02, 2.28043175e+02,\n",
       "       2.28530794e+02, 2.29064853e+02, 2.29575692e+02, 2.30086531e+02,\n",
       "       2.30597370e+02, 2.31108209e+02, 2.31619048e+02, 2.32129887e+02,\n",
       "       2.32640726e+02, 2.33151565e+02, 2.33685624e+02, 2.34219683e+02,\n",
       "       2.34753741e+02, 2.35264580e+02, 2.35752200e+02, 2.36216599e+02,\n",
       "       2.36727438e+02, 2.37238277e+02, 2.37749116e+02, 2.38259955e+02,\n",
       "       2.38770794e+02, 2.39281633e+02, 2.39792472e+02, 2.40303311e+02,\n",
       "       2.40814150e+02, 2.41348209e+02, 2.41882268e+02, 2.42369887e+02,\n",
       "       2.42880726e+02, 2.43391565e+02, 2.43902404e+02, 2.44413243e+02,\n",
       "       2.44900862e+02, 2.45434921e+02, 2.45945760e+02, 2.46456599e+02,\n",
       "       2.46944218e+02, 2.47455057e+02, 2.47965896e+02, 2.48499955e+02,\n",
       "       2.48987574e+02, 2.49428753e+02, 2.49869932e+02, 2.50357551e+02,\n",
       "       2.50868390e+02, 2.51379229e+02, 2.51913288e+02, 2.52400907e+02,\n",
       "       2.52911746e+02, 2.53422585e+02, 2.53956644e+02, 2.54444263e+02,\n",
       "       2.54885442e+02, 2.55326621e+02, 2.55814240e+02, 2.56325079e+02,\n",
       "       2.56835918e+02, 2.57346757e+02, 2.57857596e+02, 2.58368435e+02,\n",
       "       2.58879274e+02, 2.59390113e+02, 2.59900952e+02, 2.60435011e+02,\n",
       "       2.60969070e+02, 2.61503129e+02, 2.62037188e+02, 2.62548027e+02,\n",
       "       2.63012426e+02, 2.63500045e+02, 2.63987664e+02, 2.64521723e+02,\n",
       "       2.65032562e+02, 2.65543401e+02, 2.66054240e+02, 2.66565079e+02,\n",
       "       2.67075918e+02, 2.67586757e+02, 2.68074376e+02, 2.68515556e+02,\n",
       "       2.68956735e+02, 2.69444354e+02, 2.69978413e+02, 2.70489252e+02,\n",
       "       2.71000091e+02, 2.71510930e+02, 2.72021769e+02, 2.72532608e+02,\n",
       "       2.73043447e+02, 2.73531066e+02, 2.73972245e+02, 2.74413424e+02,\n",
       "       2.74901043e+02, 2.75435102e+02, 2.75945941e+02, 2.76456780e+02,\n",
       "       2.76944399e+02, 2.77455238e+02, 2.77966077e+02, 2.78500136e+02,\n",
       "       2.78987755e+02, 2.79405714e+02, 2.79870113e+02, 2.80357732e+02,\n",
       "       2.80868571e+02, 2.81379410e+02, 2.81890249e+02, 2.82401088e+02,\n",
       "       2.82911927e+02, 2.83422766e+02, 2.83956825e+02, 2.84444444e+02,\n",
       "       2.84885624e+02, 2.85326803e+02, 2.85814422e+02, 2.86348481e+02,\n",
       "       2.86859320e+02, 2.87393379e+02, 2.87973878e+02, 2.88531156e+02,\n",
       "       2.88972336e+02, 2.89413515e+02, 2.89901134e+02, 2.90342313e+02,\n",
       "       2.90783492e+02, 2.91271111e+02, 2.91781950e+02, 2.92292789e+02,\n",
       "       2.92826848e+02, 2.93314467e+02, 2.93825306e+02, 2.94336145e+02,\n",
       "       2.94846984e+02, 2.95357823e+02, 2.95891882e+02, 2.96425941e+02,\n",
       "       2.96960000e+02, 2.97517279e+02, 2.98074558e+02, 2.98515737e+02,\n",
       "       2.98956916e+02, 2.99444535e+02, 2.99978594e+02, 3.00489433e+02,\n",
       "       3.01046712e+02, 3.01603991e+02, 3.02161270e+02, 3.02695329e+02,\n",
       "       3.03206168e+02, 3.03717007e+02, 3.04227846e+02, 3.04738685e+02,\n",
       "       3.05249524e+02, 3.05760363e+02, 3.06271202e+02, 3.06782041e+02,\n",
       "       3.07292880e+02, 3.07803719e+02, 3.08314558e+02, 3.08825397e+02,\n",
       "       3.09336236e+02, 3.09847075e+02, 3.10357914e+02, 3.10868753e+02,\n",
       "       3.11379592e+02, 3.11890431e+02, 3.12401270e+02, 3.12912109e+02,\n",
       "       3.13422948e+02, 3.13933787e+02, 3.14444626e+02, 3.14955465e+02,\n",
       "       3.15466304e+02, 3.15977143e+02, 3.16487982e+02, 3.16998821e+02,\n",
       "       3.17509660e+02, 3.18020499e+02, 3.18531338e+02, 3.19042177e+02,\n",
       "       3.19576236e+02, 3.20087075e+02, 3.20574694e+02, 3.21085533e+02,\n",
       "       3.21596372e+02, 3.22107211e+02, 3.22618050e+02, 3.23128889e+02,\n",
       "       3.23639728e+02, 3.24150567e+02, 3.24661406e+02, 3.25172245e+02,\n",
       "       3.25683084e+02, 3.26193923e+02, 3.26704762e+02, 3.27215601e+02,\n",
       "       3.27726440e+02, 3.28237279e+02, 3.28771338e+02, 3.29282177e+02,\n",
       "       3.29793016e+02, 3.30303855e+02, 3.30814694e+02, 3.31325533e+02,\n",
       "       3.31836372e+02, 3.32347211e+02, 3.32858050e+02, 3.33368889e+02,\n",
       "       3.33879728e+02, 3.34390567e+02, 3.34901406e+02, 3.35412245e+02,\n",
       "       3.35923084e+02, 3.36433923e+02, 3.36875102e+02, 3.37339501e+02,\n",
       "       3.37803900e+02, 3.38314739e+02, 3.38825578e+02, 3.39336417e+02,\n",
       "       3.39847256e+02, 3.40358095e+02, 3.40868934e+02, 3.41379773e+02,\n",
       "       3.41890612e+02, 3.42401451e+02, 3.42912290e+02, 3.43399909e+02,\n",
       "       3.43841088e+02, 3.44282268e+02, 3.44793107e+02, 3.45303946e+02,\n",
       "       3.45814785e+02, 3.46325624e+02])"
      ]
     },
     "execution_count": 33,
     "metadata": {},
     "output_type": "execute_result"
    }
   ],
   "source": [
    "beat_times"
   ]
  },
  {
   "cell_type": "code",
   "execution_count": 34,
   "metadata": {
    "ExecuteTime": {
     "end_time": "2018-07-29T05:15:41.729737Z",
     "start_time": "2018-07-29T05:15:08.110073Z"
    }
   },
   "outputs": [],
   "source": [
    "# Set the hop length; at 22050 Hz, 512 samples ~= 23ms\n",
    "hop_length = 512\n",
    "\n",
    "# Separate harmonics and percussives into two waveforms\n",
    "y_harmonic, y_percussive = librosa.effects.hpss(y)\n",
    "\n",
    "# Beat track on the percussive signal\n",
    "tempo, beat_frames = librosa.beat.beat_track(y=y_percussive,\n",
    "                                             sr=sr)\n",
    "\n",
    "# Compute MFCC features from the raw signal\n",
    "mfcc = librosa.feature.mfcc(y=y, sr=sr, hop_length=hop_length, n_mfcc=13)\n",
    "\n",
    "# And the first-order differences (delta features)\n",
    "mfcc_delta = librosa.feature.delta(mfcc)\n",
    "\n",
    "# Stack and synchronize between beat events\n",
    "# This time, we'll use the mean value (default) instead of median\n",
    "beat_mfcc_delta = librosa.util.sync(np.vstack([mfcc, mfcc_delta]),\n",
    "                                    beat_frames)\n",
    "\n",
    "# Compute chroma features from the harmonic signal\n",
    "chromagram = librosa.feature.chroma_cqt(y=y_harmonic,\n",
    "                                        sr=sr)\n",
    "\n",
    "# Aggregate chroma features between beat events\n",
    "# We'll use the median value of each feature between beat frames\n",
    "beat_chroma = librosa.util.sync(chromagram,\n",
    "                                beat_frames,\n",
    "                                aggregate=np.median)\n",
    "\n",
    "# Finally, stack all beat-synchronous features together\n",
    "beat_features = np.vstack([beat_chroma, beat_mfcc_delta])"
   ]
  },
  {
   "cell_type": "code",
   "execution_count": 35,
   "metadata": {
    "ExecuteTime": {
     "end_time": "2018-07-29T05:15:42.920355Z",
     "start_time": "2018-07-29T05:15:42.116955Z"
    }
   },
   "outputs": [],
   "source": [
    "M = librosa.feature.melspectrogram(y=y)"
   ]
  },
  {
   "cell_type": "code",
   "execution_count": 36,
   "metadata": {
    "ExecuteTime": {
     "end_time": "2018-07-29T05:15:43.497288Z",
     "start_time": "2018-07-29T05:15:43.365390Z"
    }
   },
   "outputs": [
    {
     "ename": "AttributeError",
     "evalue": "module 'librosa' has no attribute 'display'",
     "output_type": "error",
     "traceback": [
      "\u001b[0;31m---------------------------------------------------------------------------\u001b[0m",
      "\u001b[0;31mAttributeError\u001b[0m                            Traceback (most recent call last)",
      "\u001b[0;32m<ipython-input-36-41c8c4b0ea30>\u001b[0m in \u001b[0;36m<module>\u001b[0;34m()\u001b[0m\n\u001b[1;32m      3\u001b[0m \u001b[0max\u001b[0m \u001b[0;34m=\u001b[0m \u001b[0mplt\u001b[0m\u001b[0;34m.\u001b[0m\u001b[0msubplot\u001b[0m\u001b[0;34m(\u001b[0m\u001b[0;36m3\u001b[0m\u001b[0;34m,\u001b[0m \u001b[0;36m1\u001b[0m\u001b[0;34m,\u001b[0m \u001b[0;36m1\u001b[0m\u001b[0;34m)\u001b[0m\u001b[0;34m\u001b[0m\u001b[0m\n\u001b[1;32m      4\u001b[0m \u001b[0;34m\u001b[0m\u001b[0m\n\u001b[0;32m----> 5\u001b[0;31m librosa.display.specshow(librosa.power_to_db(chromagram, ref=np.max),\n\u001b[0m\u001b[1;32m      6\u001b[0m                          y_axis='mel', x_axis='time')\n",
      "\u001b[0;31mAttributeError\u001b[0m: module 'librosa' has no attribute 'display'"
     ]
    },
    {
     "data": {
      "image/png": "[encoded data removed]",
      "text/plain": [
       "<Figure size 432x432 with 1 Axes>"
      ]
     },
     "metadata": {},
     "output_type": "display_data"
    }
   ],
   "source": [
    "# And plot the results\n",
    "plt.figure(figsize=(6, 6))\n",
    "ax = plt.subplot(3, 1, 1)\n",
    "\n",
    "librosa.display.specshow(librosa.power_to_db(chromagram, ref=np.max),\n",
    "                         y_axis='mel', x_axis='time')\n"
   ]
  },
  {
   "cell_type": "code",
   "execution_count": null,
   "metadata": {
    "ExecuteTime": {
     "end_time": "2018-07-29T05:15:43.522192Z",
     "start_time": "2018-07-29T05:13:51.614Z"
    }
   },
   "outputs": [],
   "source": [
    "y_harmonic, y_percussive = librosa.effects.hpss(y)"
   ]
  },
  {
   "cell_type": "code",
   "execution_count": null,
   "metadata": {
    "ExecuteTime": {
     "end_time": "2018-07-29T05:15:43.548731Z",
     "start_time": "2018-07-29T05:13:51.854Z"
    }
   },
   "outputs": [],
   "source": [
    "#percentage of bass, arpeggios?, "
   ]
  },
  {
   "cell_type": "markdown",
   "metadata": {},
   "source": [
    "# New heading"
   ]
  },
  {
   "cell_type": "code",
   "execution_count": null,
   "metadata": {
    "ExecuteTime": {
     "end_time": "2018-07-29T05:15:43.573378Z",
     "start_time": "2018-07-29T05:13:52.272Z"
    }
   },
   "outputs": [],
   "source": [
    "y, sr = librosa.load(filename)\n",
    "cent = librosa.feature.spectral_centroid(y=y, sr=sr)\n",
    "S, phase = librosa.magphase(librosa.stft(y=y))\n",
    "librosa.feature.spectral_centroid(S=S)\n"
   ]
  },
  {
   "cell_type": "code",
   "execution_count": null,
   "metadata": {
    "ExecuteTime": {
     "end_time": "2018-07-29T05:15:43.600082Z",
     "start_time": "2018-07-29T05:13:52.510Z"
    }
   },
   "outputs": [],
   "source": [
    "plt.figure()\n",
    "plt.subplot(2, 1, 1)\n",
    "plt.semilogy(cent.T, label='Spectral centroid')\n",
    "plt.ylabel('Hz')\n",
    "plt.xticks([])\n",
    "plt.xlim([0, cent.shape[-1]])\n",
    "plt.legend()\n",
    "plt.subplot(2, 1, 2)\n",
    "librosa.display.specshow(librosa.amplitude_to_db(S, ref=np.max),\n",
    "                          y_axis='log', x_axis='time')\n",
    "plt.title('log Power spectrogram')\n",
    "plt.tight_layout()\n",
    "plt.show()"
   ]
  },
  {
   "cell_type": "code",
   "execution_count": null,
   "metadata": {
    "ExecuteTime": {
     "end_time": "2018-07-29T05:15:43.625236Z",
     "start_time": "2018-07-29T05:13:52.749Z"
    }
   },
   "outputs": [],
   "source": [
    "D = librosa.stft(y)\n",
    "D_harmonic, D_percussive = librosa.decompose.hpss(D)"
   ]
  },
  {
   "cell_type": "code",
   "execution_count": null,
   "metadata": {
    "ExecuteTime": {
     "end_time": "2018-07-29T05:15:43.650222Z",
     "start_time": "2018-07-29T05:13:52.999Z"
    }
   },
   "outputs": [],
   "source": [
    "# Pre-compute a global reference power from the input spectrum\n",
    "rp = np.max(np.abs(D))\n",
    "\n",
    "plt.figure(figsize=(12, 8))\n",
    "\n",
    "plt.subplot(3, 1, 1)\n",
    "librosa.display.specshow(librosa.amplitude_to_db(D, ref=rp), y_axis='log')\n",
    "plt.colorbar()\n",
    "plt.title('Full spectrogram')\n",
    "\n",
    "plt.subplot(3, 1, 2)\n",
    "librosa.display.specshow(librosa.amplitude_to_db(D_harmonic, ref=rp), y_axis='log')\n",
    "plt.colorbar()\n",
    "plt.title('Harmonic spectrogram')\n",
    "\n",
    "plt.subplot(3, 1, 3)\n",
    "librosa.display.specshow(librosa.amplitude_to_db(D_percussive, ref=rp), y_axis='log', x_axis='time')\n",
    "plt.colorbar()\n",
    "plt.title('Percussive spectrogram')\n",
    "plt.tight_layout()\n",
    "plt.show()"
   ]
  },
  {
   "cell_type": "code",
   "execution_count": null,
   "metadata": {
    "ExecuteTime": {
     "end_time": "2018-07-29T05:15:43.675034Z",
     "start_time": "2018-07-29T05:13:53.221Z"
    }
   },
   "outputs": [],
   "source": [
    "librosa.feature.rmse(y=y)\n",
    "S, phase = librosa.magphase(librosa.stft(y))\n",
    "rms = librosa.feature.rmse(S=S)"
   ]
  },
  {
   "cell_type": "code",
   "execution_count": null,
   "metadata": {
    "ExecuteTime": {
     "end_time": "2018-07-29T05:15:43.699155Z",
     "start_time": "2018-07-29T05:13:53.469Z"
    }
   },
   "outputs": [],
   "source": [
    "plt.figure()\n",
    "plt.subplot(2, 1, 1)\n",
    "plt.semilogy(rms.T, label='RMS Energy')\n",
    "plt.xticks([])\n",
    "plt.xlim([0, rms.shape[-1]])\n",
    "plt.legend(loc='best')\n",
    "plt.subplot(2, 1, 2)\n",
    "librosa.display.specshow(librosa.amplitude_to_db(S, ref=np.max),\n",
    "                         y_axis='log', x_axis='time')\n",
    "plt.title('log Power spectrogram')\n",
    "plt.tight_layout()"
   ]
  },
  {
   "cell_type": "code",
   "execution_count": null,
   "metadata": {
    "ExecuteTime": {
     "end_time": "2018-07-29T05:15:43.724556Z",
     "start_time": "2018-07-29T05:13:53.734Z"
    }
   },
   "outputs": [],
   "source": [
    "pitches, magnitudes = librosa.core.piptrack(y=y, sr=sr, fmin=75, fmax=1600)"
   ]
  },
  {
   "cell_type": "code",
   "execution_count": null,
   "metadata": {
    "ExecuteTime": {
     "end_time": "2018-07-29T04:41:44.685126Z",
     "start_time": "2018-07-29T04:41:44.675571Z"
    }
   },
   "outputs": [],
   "source": []
  },
  {
   "cell_type": "code",
   "execution_count": null,
   "metadata": {
    "ExecuteTime": {
     "end_time": "2018-07-29T05:15:43.750749Z",
     "start_time": "2018-07-29T05:13:54.229Z"
    }
   },
   "outputs": [],
   "source": [
    "float(all_pitches[0])"
   ]
  },
  {
   "cell_type": "code",
   "execution_count": null,
   "metadata": {
    "ExecuteTime": {
     "end_time": "2018-07-29T05:15:43.773005Z",
     "start_time": "2018-07-29T05:13:54.525Z"
    }
   },
   "outputs": [],
   "source": [
    "def detect_pitch(y, sr, onset_offset=5, fmin=75, fmax=1400):\n",
    "    y = highpass_filter(y, sr)\n",
    "\n",
    "    o_env = librosa.onset.onset_strength(y, sr=sr)\n",
    "    times = librosa.frames_to_time(np.arange(len(o_env)), sr=sr)\n",
    "\n",
    "    onset_frames = librosa.onset.onset_detect(y=o_env, sr=sr)\n",
    "    pitches, magnitudes = librosa.piptrack(y=y, sr=sr, fmin=fmin, fmax=fmax)\n",
    "\n",
    "    notes = []\n",
    "\n",
    "    for i in range(0, len(onset_frames)):\n",
    "        onset = onset_frames[i] + onset_offset\n",
    "        index = magnitudes[:, onset].argmax()\n",
    "        pitch = pitches[index, onset]\n",
    "        if (pitch != 0):\n",
    "            notes.append(librosa.hz_to_note(pitch))\n",
    "\n",
    "    return notes\n",
    "\n"
   ]
  },
  {
   "cell_type": "code",
   "execution_count": null,
   "metadata": {
    "ExecuteTime": {
     "end_time": "2018-07-29T05:15:43.800712Z",
     "start_time": "2018-07-29T05:13:54.813Z"
    }
   },
   "outputs": [],
   "source": [
    "notes = detect_pitch(y,sr)"
   ]
  },
  {
   "cell_type": "code",
   "execution_count": 37,
   "metadata": {
    "ExecuteTime": {
     "end_time": "2018-07-29T05:36:45.546261Z",
     "start_time": "2018-07-29T05:36:45.526858Z"
    }
   },
   "outputs": [
    {
     "ename": "NameError",
     "evalue": "name 'notes' is not defined",
     "output_type": "error",
     "traceback": [
      "\u001b[0;31m---------------------------------------------------------------------------\u001b[0m",
      "\u001b[0;31mNameError\u001b[0m                                 Traceback (most recent call last)",
      "\u001b[0;32m<ipython-input-37-b9350f295d01>\u001b[0m in \u001b[0;36m<module>\u001b[0;34m()\u001b[0m\n\u001b[0;32m----> 1\u001b[0;31m \u001b[0mnotes\u001b[0m\u001b[0;34m\u001b[0m\u001b[0m\n\u001b[0m",
      "\u001b[0;31mNameError\u001b[0m: name 'notes' is not defined"
     ]
    }
   ],
   "source": [
    "notes"
   ]
  },
  {
   "cell_type": "code",
   "execution_count": null,
   "metadata": {},
   "outputs": [],
   "source": []
  }
 ],
 "metadata": {
  "kernelspec": {
   "display_name": "Python 3",
   "language": "python",
   "name": "python3"
  },
  "language_info": {
   "codemirror_mode": {
    "name": "ipython",
    "version": 3
   },
   "file_extension": ".py",
   "mimetype": "text/x-python",
   "name": "python",
   "nbconvert_exporter": "python",
   "pygments_lexer": "ipython3",
   "version": "3.6.5"
  },
  "varInspector": {
   "cols": {
    "lenName": 16,
    "lenType": 16,
    "lenVar": 40
   },
   "kernels_config": {
    "python": {
     "delete_cmd_postfix": "",
     "delete_cmd_prefix": "del ",
     "library": "var_list.py",
     "varRefreshCmd": "print(var_dic_list())"
    },
    "r": {
     "delete_cmd_postfix": ") ",
     "delete_cmd_prefix": "rm(",
     "library": "var_list.r",
     "varRefreshCmd": "cat(var_dic_list()) "
    }
   },
   "types_to_exclude": [
    "module",
    "function",
    "builtin_function_or_method",
    "instance",
    "_Feature"
   ],
   "window_display": false
  }
 },
 "nbformat": 4,
 "nbformat_minor": 2
}
