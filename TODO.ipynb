{
 "cells": [
  {
   "cell_type": "markdown",
   "metadata": {},
   "source": [
    "### Project McKnulty Wishlist\n",
    "0. More exploratory data analysis to really define which features look interesting (rmse, timbre, etc)\n",
    "1. Itunes interface that reads metadata (song name, etc)\n",
    "2. Cooresponding tag in million song or last.fm data base (has key information!)\n",
    "3. Additional pre defined features from librosa and yaafe. \n",
    "4. Note, define methods to indentity how dynamic something is (counts of delta rmse above mean. Also explore timbre features\n",
    "5. Can you identify \"arpeggios, female vocals, and how much \"shimmer\", how many \"drops\", etc...\n",
    "6. Will need to listen and decide if you like/dislike all songs on the data base, so be realistic. \n"
   ]
  },
  {
   "cell_type": "code",
   "execution_count": null,
   "metadata": {},
   "outputs": [],
   "source": [
    "#### To do\n",
    "1. Additional EDA with other features. Neatly annotate EDA\n",
    "2. Decide on data set (itunes, million dollar songs, etc)\n",
    "3. Write more clearly defined feature routines\n",
    "4. Train data "
   ]
  }
 ],
 "metadata": {
  "kernelspec": {
   "display_name": "Python 3",
   "language": "python",
   "name": "python3"
  },
  "varInspector": {
   "cols": {
    "lenName": 16,
    "lenType": 16,
    "lenVar": 40
   },
   "kernels_config": {
    "python": {
     "delete_cmd_postfix": "",
     "delete_cmd_prefix": "del ",
     "library": "var_list.py",
     "varRefreshCmd": "print(var_dic_list())"
    },
    "r": {
     "delete_cmd_postfix": ") ",
     "delete_cmd_prefix": "rm(",
     "library": "var_list.r",
     "varRefreshCmd": "cat(var_dic_list()) "
    }
   },
   "types_to_exclude": [
    "module",
    "function",
    "builtin_function_or_method",
    "instance",
    "_Feature"
   ],
   "window_display": false
  }
 },
 "nbformat": 4,
 "nbformat_minor": 2
}
