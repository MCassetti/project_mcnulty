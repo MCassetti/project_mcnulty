{
 "cells": [
  {
   "cell_type": "code",
   "execution_count": 2,
   "metadata": {
    "ExecuteTime": {
     "end_time": "2018-07-30T01:26:40.949317Z",
     "start_time": "2018-07-30T01:26:40.943502Z"
    }
   },
   "outputs": [],
   "source": [
    "import scipy\n",
    "from pathlib import Path\n",
    "import pathlib\n",
    "from scipy.io.wavfile import read\n",
    "from scipy.signal import hann\n",
    "from scipy import signal\n",
    "from scipy.fftpack import rfft\n",
    "import matplotlib.pyplot as plt\n",
    "import librosa\n",
    "import librosa.display\n",
    "from yaafelib import *\n",
    "\n",
    "#file_path = '/Users/mcassettix/Music/'\n",
    "path = pathlib.Path(\"~/Music/*.mp3\").expanduser()\n",
    "parts = path.parts[1:] if path.is_absolute() else path.parts\n",
    "output = pathlib.Path(path.root).glob(str(pathlib.Path(\"\").joinpath(*parts)))\n",
    "#file_name = 'Bassnectar.wav'\n",
    "#audio_file = file_path + file_name\n",
    "#X, sr = librosa.load(audio_file)"
   ]
  },
  {
   "cell_type": "code",
   "execution_count": null,
   "metadata": {},
   "outputs": [],
   "source": [
    "#rmse = librosa.feature.rmse(y=y)[0]\n",
    "#times = librosa.frames_to_time(np.arange(len(rmse)))\n",
    "#plt.figure(figsize=(12, 4))\n",
    "#plt.plot(times, rmse)\n",
    "#plt.axhline(np.mean(rmse), color='r', alpha=0.5)\n",
    "#plt.xlabel('Time')\n",
    "#plt.ylabel('RMSE')\n",
    "#plt.axis('tight')\n",
    "#plt.tight_layout()\n",
    "#mfccs,chroma,mel,contrast,tonnetz = other_features(y,sr)\n",
    "#ext_features = np.hstack([mfccs,chroma,mel,contrast,tonnetz])\n",
    "def count_rmse_above_mean(rmse):\n",
    "    lower_count = 0\n",
    "    upper_count = 0\n",
    "    for e in rmse:\n",
    "        if e > np.mean(rmse):\n",
    "            upper_count+=1\n",
    "        else:\n",
    "            lower_count +=1\n",
    "    return upper_count/lower_count\n",
    "\n",
    "def count_delta_above_mean(rmse):\n",
    "    dyn_change = 0\n",
    "    for i in range(len(rmse)-3):\n",
    "        diff = abs(rmse[i+3]-rmse[i])\n",
    "        if diff > np.mean(rmse):\n",
    "            dyn_change += 1\n",
    "    return dyn_change  "
   ]
  },
  {
   "cell_type": "code",
   "execution_count": null,
   "metadata": {},
   "outputs": [],
   "source": [
    "def harmonic_ratio(signal):\n",
    "    ratios = []\n",
    "    y_harmonic, y_percussive = librosa.effects.hpss(signal)\n",
    "    if len(y_harmonic)== len(y_percussive):\n",
    "        for i in range(len(y_harmonic)):\n",
    "            if y_harmonic[i] > 0 and y_percussive[i] > 0:\n",
    "                ratios.append(y_harmonic[i]/y_percussive[i])\n",
    "    else:\n",
    "        print('lenghts not idenitcal')        \n",
    "    return np.median(ratios)\n",
    "    \n",
    "def extract_features(signal):\n",
    "\n",
    "    return [\n",
    "        np.mean(librosa.feature.zero_crossing_rate(signal)),\n",
    "        np.mean(librosa.feature.rmse(signal)[0]),\n",
    "        np.max(librosa.feature.rmse(signal)[0]),\n",
    "        count_rmse_above_mean(librosa.feature.rmse(signal)[0]),\n",
    "        count_delta_above_mean(librosa.feature.rmse(signal)[0]),\n",
    "        np.mean(librosa.feature.spectral_flatness(signal)),\n",
    "        np.mean(librosa.feature.spectral_centroid(signal)),\n",
    "        \n",
    "    ]\n",
    "def other_features(X,sample_rate):\n",
    "    stft = np.abs(librosa.stft(X))\n",
    "    mfccs = np.mean(librosa.feature.mfcc(y=X, sr=sample_rate, n_mfcc=40).T,axis=0)\n",
    "    chroma = np.mean(librosa.feature.chroma_stft(S=stft, sr=sample_rate).T,axis=0)\n",
    "    mel = np.mean(librosa.feature.melspectrogram(X, sr=sample_rate).T,axis=0)\n",
    "    contrast = np.mean(librosa.feature.spectral_contrast(S=stft, sr=sample_rate).T,axis=0)\n",
    "    tonnetz = np.mean(librosa.feature.tonnetz(y=librosa.effects.harmonic(X),\n",
    "    sr=sample_rate).T,axis=0)\n",
    "    return mfccs,chroma,mel,contrast,tonnetz    \n",
    "    "
   ]
  },
  {
   "cell_type": "code",
   "execution_count": 4,
   "metadata": {
    "ExecuteTime": {
     "end_time": "2018-07-30T01:26:56.418002Z",
     "start_time": "2018-07-30T01:26:42.711735Z"
    }
   },
   "outputs": [
    {
     "name": "stdout",
     "output_type": "stream",
     "text": [
      "/Users/mcassettix/Music/01 - Everyday.mp3\n",
      "Estimated tempo: 143.55 beats per minute\n"
     ]
    }
   ],
   "source": [
    "for p in output:\n",
    "    y, sr = librosa.load(p) \n",
    "    break\n",
    "    \n",
    "    # Run the default beat tracker\n",
    "tempo, beat_frames = librosa.beat.beat_track(y=y, sr=sr)\n",
    "print('Estimated tempo: {:.2f} beats per minute'.format(tempo))\n",
    "features = extract_features(y)\n",
    "features.append(harmonic_ratio(y))\n",
    "features.append(tempo)\n",
    "features.reverse()"
   ]
  },
  {
   "cell_type": "code",
   "execution_count": 26,
   "metadata": {
    "ExecuteTime": {
     "end_time": "2018-07-30T02:01:26.390735Z",
     "start_time": "2018-07-30T02:01:22.534838Z"
    }
   },
   "outputs": [
    {
     "name": "stdout",
     "output_type": "stream",
     "text": [
      "Enter 1 or 0, 1 for like, 0 for dislike: 1\n",
      "you entered 1, is this correct?\n",
      "enter y/n: y\n"
     ]
    }
   ],
   "source": [
    "#Since I have no clue what to do with the time series features, let just\n",
    "#utilize our computed features above \n",
    "y_values = []\n",
    "print(p)\n",
    "var = input(\"Enter 1 or 0, 1 for like, 0 for dislike: \")\n",
    "print(f\"you entered {var}, is this correct?\")\n",
    "correct = input(\"enter y/n: \")\n",
    "if correct == 'y':\n",
    "    features.append(var)\n",
    "else:\n",
    "    print('wrong input')"
   ]
  },
  {
   "cell_type": "code",
   "execution_count": 41,
   "metadata": {
    "ExecuteTime": {
     "end_time": "2018-07-30T02:04:38.792967Z",
     "start_time": "2018-07-30T02:04:38.789402Z"
    }
   },
   "outputs": [],
   "source": [
    "import pandas as pd\n",
    "cols=['bpm','harmonic_rythmic_ratio',\\\n",
    "'spectral_centroid','spectral_flatness','count_delta_above_mean',\\\n",
    "'ratio_above_rmse_mean','max_rmse','mean_rms','mean_zcr','liked']"
   ]
  },
  {
   "cell_type": "code",
   "execution_count": 52,
   "metadata": {
    "ExecuteTime": {
     "end_time": "2018-07-30T02:07:43.889360Z",
     "start_time": "2018-07-30T02:07:43.884781Z"
    }
   },
   "outputs": [
    {
     "name": "stdout",
     "output_type": "stream",
     "text": [
      "143.5546875 bpm\n",
      "2.696205 harmonic_rythmic_ratio\n",
      "3456.1472723162724 spectral_centroid\n",
      "0.068789154 spectral_flatness\n",
      "7 count_delta_above_mean\n",
      "1.2368010692804634 ratio_above_rmse_mean\n",
      "0.5595749 max_rmse\n",
      "0.23579076 mean_rms\n",
      "0.16048016608467783 mean_zcr\n",
      "1 liked\n"
     ]
    }
   ],
   "source": [
    "new_dict = {}\n",
    "for index,col in cols):\n",
    "    print(features[index],col)\n",
    "    new_dict[col] = features[index]\n",
    "    "
   ]
  },
  {
   "cell_type": "code",
   "execution_count": null,
   "metadata": {},
   "outputs": [],
   "source": []
  }
 ],
 "metadata": {
  "kernelspec": {
   "display_name": "Python 3",
   "language": "python",
   "name": "python3"
  },
  "varInspector": {
   "cols": {
    "lenName": 16,
    "lenType": 16,
    "lenVar": 40
   },
   "kernels_config": {
    "python": {
     "delete_cmd_postfix": "",
     "delete_cmd_prefix": "del ",
     "library": "var_list.py",
     "varRefreshCmd": "print(var_dic_list())"
    },
    "r": {
     "delete_cmd_postfix": ") ",
     "delete_cmd_prefix": "rm(",
     "library": "var_list.r",
     "varRefreshCmd": "cat(var_dic_list()) "
    }
   },
   "types_to_exclude": [
    "module",
    "function",
    "builtin_function_or_method",
    "instance",
    "_Feature"
   ],
   "window_display": false
  }
 },
 "nbformat": 4,
 "nbformat_minor": 2
}
