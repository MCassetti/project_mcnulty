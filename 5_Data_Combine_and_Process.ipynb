{
 "cells": [
  {
   "cell_type": "code",
   "execution_count": 1,
   "metadata": {},
   "outputs": [],
   "source": [
    "import pickle\n",
    "import pandas as pd\n",
    "\n",
    "df_metal = pd.read_pickle('Metallica.pkl')\n",
    "df_rush = pd.read_pickle('Rush.pkl')"
   ]
  },
  {
   "cell_type": "code",
   "execution_count": 2,
   "metadata": {},
   "outputs": [
    {
     "data": {
      "text/html": [
       "<div>\n",
       "<style scoped>\n",
       "    .dataframe tbody tr th:only-of-type {\n",
       "        vertical-align: middle;\n",
       "    }\n",
       "\n",
       "    .dataframe tbody tr th {\n",
       "        vertical-align: top;\n",
       "    }\n",
       "\n",
       "    .dataframe thead th {\n",
       "        text-align: right;\n",
       "    }\n",
       "</style>\n",
       "<table border=\"1\" class=\"dataframe\">\n",
       "  <thead>\n",
       "    <tr style=\"text-align: right;\">\n",
       "      <th></th>\n",
       "      <th>track_name</th>\n",
       "      <th>bpm</th>\n",
       "      <th>harmonic_rythmic_ratio</th>\n",
       "      <th>spectral_centroid</th>\n",
       "      <th>spectral_flatness</th>\n",
       "      <th>count_delta_above_mean</th>\n",
       "      <th>ratio_above_rmse_mean</th>\n",
       "      <th>max_rmse</th>\n",
       "      <th>mean_rms</th>\n",
       "      <th>mean_zcr</th>\n",
       "      <th>liked</th>\n",
       "    </tr>\n",
       "  </thead>\n",
       "  <tbody>\n",
       "    <tr>\n",
       "      <th>0</th>\n",
       "      <td>02 - ...And Justice For All.mp3</td>\n",
       "      <td>172.265625</td>\n",
       "      <td>1.7621418</td>\n",
       "      <td>3191.5892321502765</td>\n",
       "      <td>0.059798475</td>\n",
       "      <td>0</td>\n",
       "      <td>0.8363228699551569</td>\n",
       "      <td>0.20790277</td>\n",
       "      <td>0.10988006</td>\n",
       "      <td>0.19049288385225885</td>\n",
       "      <td>Metallica</td>\n",
       "    </tr>\n",
       "    <tr>\n",
       "      <th>1</th>\n",
       "      <td>02 - ...And Justice For All.mp3</td>\n",
       "      <td>89.10290948275862</td>\n",
       "      <td>1.5165452</td>\n",
       "      <td>3428.3347785255855</td>\n",
       "      <td>0.085457996</td>\n",
       "      <td>9</td>\n",
       "      <td>0.75</td>\n",
       "      <td>0.23043096</td>\n",
       "      <td>0.1135374</td>\n",
       "      <td>0.19695858611874237</td>\n",
       "      <td>Metallica</td>\n",
       "    </tr>\n",
       "    <tr>\n",
       "      <th>2</th>\n",
       "      <td>02 - ...And Justice For All.mp3</td>\n",
       "      <td>172.265625</td>\n",
       "      <td>1.5371629</td>\n",
       "      <td>3339.4024890856945</td>\n",
       "      <td>0.072778605</td>\n",
       "      <td>6</td>\n",
       "      <td>0.8784403669724771</td>\n",
       "      <td>0.2230864</td>\n",
       "      <td>0.11240201</td>\n",
       "      <td>0.18870550022893773</td>\n",
       "      <td>Metallica</td>\n",
       "    </tr>\n",
       "    <tr>\n",
       "      <th>3</th>\n",
       "      <td>02 - ...And Justice For All.mp3</td>\n",
       "      <td>86.1328125</td>\n",
       "      <td>1.4755093</td>\n",
       "      <td>3143.572297815953</td>\n",
       "      <td>0.06116858</td>\n",
       "      <td>1</td>\n",
       "      <td>0.9782608695652174</td>\n",
       "      <td>0.23345521</td>\n",
       "      <td>0.12423303</td>\n",
       "      <td>0.15448527167277168</td>\n",
       "      <td>Metallica</td>\n",
       "    </tr>\n",
       "    <tr>\n",
       "      <th>4</th>\n",
       "      <td>02 - ...And Justice For All.mp3</td>\n",
       "      <td>86.1328125</td>\n",
       "      <td>1.6638513</td>\n",
       "      <td>3267.630530736368</td>\n",
       "      <td>0.06425734</td>\n",
       "      <td>17</td>\n",
       "      <td>0.8</td>\n",
       "      <td>0.25247893</td>\n",
       "      <td>0.1128069</td>\n",
       "      <td>0.16734751793345543</td>\n",
       "      <td>Metallica</td>\n",
       "    </tr>\n",
       "  </tbody>\n",
       "</table>\n",
       "</div>"
      ],
      "text/plain": [
       "                        track_name                bpm harmonic_rythmic_ratio  \\\n",
       "0  02 - ...And Justice For All.mp3         172.265625              1.7621418   \n",
       "1  02 - ...And Justice For All.mp3  89.10290948275862              1.5165452   \n",
       "2  02 - ...And Justice For All.mp3         172.265625              1.5371629   \n",
       "3  02 - ...And Justice For All.mp3         86.1328125              1.4755093   \n",
       "4  02 - ...And Justice For All.mp3         86.1328125              1.6638513   \n",
       "\n",
       "    spectral_centroid spectral_flatness count_delta_above_mean  \\\n",
       "0  3191.5892321502765       0.059798475                      0   \n",
       "1  3428.3347785255855       0.085457996                      9   \n",
       "2  3339.4024890856945       0.072778605                      6   \n",
       "3   3143.572297815953        0.06116858                      1   \n",
       "4   3267.630530736368        0.06425734                     17   \n",
       "\n",
       "  ratio_above_rmse_mean    max_rmse    mean_rms             mean_zcr  \\\n",
       "0    0.8363228699551569  0.20790277  0.10988006  0.19049288385225885   \n",
       "1                  0.75  0.23043096   0.1135374  0.19695858611874237   \n",
       "2    0.8784403669724771   0.2230864  0.11240201  0.18870550022893773   \n",
       "3    0.9782608695652174  0.23345521  0.12423303  0.15448527167277168   \n",
       "4                   0.8  0.25247893   0.1128069  0.16734751793345543   \n",
       "\n",
       "       liked  \n",
       "0  Metallica  \n",
       "1  Metallica  \n",
       "2  Metallica  \n",
       "3  Metallica  \n",
       "4  Metallica  "
      ]
     },
     "execution_count": 2,
     "metadata": {},
     "output_type": "execute_result"
    }
   ],
   "source": [
    "df_metal.head()"
   ]
  },
  {
   "cell_type": "code",
   "execution_count": 3,
   "metadata": {},
   "outputs": [
    {
     "data": {
      "text/html": [
       "<div>\n",
       "<style scoped>\n",
       "    .dataframe tbody tr th:only-of-type {\n",
       "        vertical-align: middle;\n",
       "    }\n",
       "\n",
       "    .dataframe tbody tr th {\n",
       "        vertical-align: top;\n",
       "    }\n",
       "\n",
       "    .dataframe thead th {\n",
       "        text-align: right;\n",
       "    }\n",
       "</style>\n",
       "<table border=\"1\" class=\"dataframe\">\n",
       "  <thead>\n",
       "    <tr style=\"text-align: right;\">\n",
       "      <th></th>\n",
       "      <th>track_name</th>\n",
       "      <th>bpm</th>\n",
       "      <th>harmonic_rythmic_ratio</th>\n",
       "      <th>spectral_centroid</th>\n",
       "      <th>spectral_flatness</th>\n",
       "      <th>count_delta_above_mean</th>\n",
       "      <th>ratio_above_rmse_mean</th>\n",
       "      <th>max_rmse</th>\n",
       "      <th>mean_rms</th>\n",
       "      <th>mean_zcr</th>\n",
       "      <th>liked</th>\n",
       "    </tr>\n",
       "  </thead>\n",
       "  <tbody>\n",
       "    <tr>\n",
       "      <th>0</th>\n",
       "      <td>6 - Presto.mp3</td>\n",
       "      <td>112.34714673913044</td>\n",
       "      <td>1.9709504</td>\n",
       "      <td>2989.5106338930036</td>\n",
       "      <td>0.066478975</td>\n",
       "      <td>0</td>\n",
       "      <td>1.0</td>\n",
       "      <td>0.2094843</td>\n",
       "      <td>0.1465544</td>\n",
       "      <td>0.18593729397415612</td>\n",
       "      <td>Rush</td>\n",
       "    </tr>\n",
       "    <tr>\n",
       "      <th>1</th>\n",
       "      <td>6 - Presto.mp3</td>\n",
       "      <td>112.34714673913044</td>\n",
       "      <td>2.1363137</td>\n",
       "      <td>2871.540584644639</td>\n",
       "      <td>0.05796658</td>\n",
       "      <td>0</td>\n",
       "      <td>0.8884462151394422</td>\n",
       "      <td>0.21702889</td>\n",
       "      <td>0.130545</td>\n",
       "      <td>0.16743205267668776</td>\n",
       "      <td>Rush</td>\n",
       "    </tr>\n",
       "    <tr>\n",
       "      <th>2</th>\n",
       "      <td>6 - Presto.mp3</td>\n",
       "      <td>112.34714673913044</td>\n",
       "      <td>2.1379035</td>\n",
       "      <td>2992.0583505507693</td>\n",
       "      <td>0.065357454</td>\n",
       "      <td>0</td>\n",
       "      <td>0.896</td>\n",
       "      <td>0.20894545</td>\n",
       "      <td>0.12714393</td>\n",
       "      <td>0.17910341673259494</td>\n",
       "      <td>Rush</td>\n",
       "    </tr>\n",
       "    <tr>\n",
       "      <th>3</th>\n",
       "      <td>6 - Presto.mp3</td>\n",
       "      <td>112.34714673913044</td>\n",
       "      <td>2.0747743</td>\n",
       "      <td>3084.05901352934</td>\n",
       "      <td>0.0704499</td>\n",
       "      <td>0</td>\n",
       "      <td>0.8301158301158301</td>\n",
       "      <td>0.17965001</td>\n",
       "      <td>0.11159776</td>\n",
       "      <td>0.16823040282172996</td>\n",
       "      <td>Rush</td>\n",
       "    </tr>\n",
       "    <tr>\n",
       "      <th>4</th>\n",
       "      <td>6 - Presto.mp3</td>\n",
       "      <td>112.34714673913044</td>\n",
       "      <td>2.5016134</td>\n",
       "      <td>3066.8922508101837</td>\n",
       "      <td>0.060656488</td>\n",
       "      <td>2</td>\n",
       "      <td>0.8091603053435115</td>\n",
       "      <td>0.176942</td>\n",
       "      <td>0.104001425</td>\n",
       "      <td>0.15396929390822786</td>\n",
       "      <td>Rush</td>\n",
       "    </tr>\n",
       "  </tbody>\n",
       "</table>\n",
       "</div>"
      ],
      "text/plain": [
       "       track_name                 bpm harmonic_rythmic_ratio  \\\n",
       "0  6 - Presto.mp3  112.34714673913044              1.9709504   \n",
       "1  6 - Presto.mp3  112.34714673913044              2.1363137   \n",
       "2  6 - Presto.mp3  112.34714673913044              2.1379035   \n",
       "3  6 - Presto.mp3  112.34714673913044              2.0747743   \n",
       "4  6 - Presto.mp3  112.34714673913044              2.5016134   \n",
       "\n",
       "    spectral_centroid spectral_flatness count_delta_above_mean  \\\n",
       "0  2989.5106338930036       0.066478975                      0   \n",
       "1   2871.540584644639        0.05796658                      0   \n",
       "2  2992.0583505507693       0.065357454                      0   \n",
       "3    3084.05901352934         0.0704499                      0   \n",
       "4  3066.8922508101837       0.060656488                      2   \n",
       "\n",
       "  ratio_above_rmse_mean    max_rmse     mean_rms             mean_zcr liked  \n",
       "0                   1.0   0.2094843    0.1465544  0.18593729397415612  Rush  \n",
       "1    0.8884462151394422  0.21702889     0.130545  0.16743205267668776  Rush  \n",
       "2                 0.896  0.20894545   0.12714393  0.17910341673259494  Rush  \n",
       "3    0.8301158301158301  0.17965001   0.11159776  0.16823040282172996  Rush  \n",
       "4    0.8091603053435115    0.176942  0.104001425  0.15396929390822786  Rush  "
      ]
     },
     "execution_count": 3,
     "metadata": {},
     "output_type": "execute_result"
    }
   ],
   "source": [
    "df_rush.head()"
   ]
  },
  {
   "cell_type": "code",
   "execution_count": 4,
   "metadata": {},
   "outputs": [],
   "source": [
    "df = pd.concat([df_metal,df_rush])"
   ]
  },
  {
   "cell_type": "code",
   "execution_count": 5,
   "metadata": {},
   "outputs": [],
   "source": [
    "new_df = df.sample(len(df))"
   ]
  },
  {
   "cell_type": "code",
   "execution_count": 6,
   "metadata": {},
   "outputs": [],
   "source": [
    "new_df.reset_index(inplace=True)"
   ]
  },
  {
   "cell_type": "code",
   "execution_count": 7,
   "metadata": {},
   "outputs": [],
   "source": [
    "new_df.to_pickle('sampled_data_bands.pkl')"
   ]
  },
  {
   "cell_type": "code",
   "execution_count": 14,
   "metadata": {},
   "outputs": [],
   "source": [
    "new_df.tail()\n",
    "new_df.rename(columns = {'liked':'band'},inplace=True)"
   ]
  },
  {
   "cell_type": "code",
   "execution_count": 16,
   "metadata": {},
   "outputs": [],
   "source": [
    "new_df.to_pickle('sampled_data_bands.pkl')"
   ]
  },
  {
   "cell_type": "code",
   "execution_count": 13,
   "metadata": {},
   "outputs": [
    {
     "data": {
      "text/plain": [
       "4508"
      ]
     },
     "execution_count": 13,
     "metadata": {},
     "output_type": "execute_result"
    }
   ],
   "source": [
    "len(df_rush)"
   ]
  },
  {
   "cell_type": "code",
   "execution_count": null,
   "metadata": {},
   "outputs": [],
   "source": []
  }
 ],
 "metadata": {
  "kernelspec": {
   "display_name": "Python 3",
   "language": "python",
   "name": "python3"
  },
  "language_info": {
   "codemirror_mode": {
    "name": "ipython",
    "version": 3
   },
   "file_extension": ".py",
   "mimetype": "text/x-python",
   "name": "python",
   "nbconvert_exporter": "python",
   "pygments_lexer": "ipython3",
   "version": "3.6.5"
  }
 },
 "nbformat": 4,
 "nbformat_minor": 2
}
